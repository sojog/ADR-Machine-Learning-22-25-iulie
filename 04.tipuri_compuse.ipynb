{
 "cells": [
  {
   "cell_type": "code",
   "execution_count": 1,
   "id": "5e0320ad",
   "metadata": {},
   "outputs": [
    {
     "data": {
      "text/plain": [
       "[1, 2, 3, 5, 55, 321]"
      ]
     },
     "execution_count": 1,
     "metadata": {},
     "output_type": "execute_result"
    }
   ],
   "source": [
    "lista = [1, 2, 3, 5, 55, 321]\n",
    "lista"
   ]
  },
  {
   "cell_type": "code",
   "execution_count": 2,
   "id": "e04e3202",
   "metadata": {},
   "outputs": [
    {
     "data": {
      "text/plain": [
       "6"
      ]
     },
     "execution_count": 2,
     "metadata": {},
     "output_type": "execute_result"
    }
   ],
   "source": [
    "len(lista)"
   ]
  },
  {
   "cell_type": "code",
   "execution_count": 3,
   "id": "3e7db8b8",
   "metadata": {},
   "outputs": [
    {
     "data": {
      "text/plain": [
       "[1, 2, 3, 5, 55, 321, 10]"
      ]
     },
     "execution_count": 3,
     "metadata": {},
     "output_type": "execute_result"
    }
   ],
   "source": [
    "lista.append(10)\n",
    "lista"
   ]
  },
  {
   "cell_type": "code",
   "execution_count": 4,
   "id": "c80d4a27",
   "metadata": {},
   "outputs": [
    {
     "data": {
      "text/plain": [
       "[1, 2, 3, 5, 55, 321]"
      ]
     },
     "execution_count": 4,
     "metadata": {},
     "output_type": "execute_result"
    }
   ],
   "source": [
    "lista.pop()\n",
    "lista"
   ]
  },
  {
   "cell_type": "code",
   "execution_count": 5,
   "id": "79f0af60",
   "metadata": {},
   "outputs": [],
   "source": [
    "lista.clear()"
   ]
  },
  {
   "cell_type": "code",
   "execution_count": 6,
   "id": "16f9e621",
   "metadata": {},
   "outputs": [
    {
     "data": {
      "text/plain": [
       "[]"
      ]
     },
     "execution_count": 6,
     "metadata": {},
     "output_type": "execute_result"
    }
   ],
   "source": [
    "lista"
   ]
  },
  {
   "cell_type": "code",
   "execution_count": 7,
   "id": "3251f31d",
   "metadata": {},
   "outputs": [
    {
     "data": {
      "text/plain": [
       "['S', 'a', 'l', 'u', 't', 'a', 'r', 'e']"
      ]
     },
     "execution_count": 7,
     "metadata": {},
     "output_type": "execute_result"
    }
   ],
   "source": [
    "list(\"Salutare\")"
   ]
  },
  {
   "cell_type": "code",
   "execution_count": 8,
   "id": "2f835ba9",
   "metadata": {},
   "outputs": [],
   "source": [
    "list = 300"
   ]
  },
  {
   "cell_type": "code",
   "execution_count": 10,
   "id": "aa8ecae0",
   "metadata": {},
   "outputs": [],
   "source": [
    "# list(\"Salutare\")"
   ]
  },
  {
   "cell_type": "code",
   "execution_count": null,
   "id": "f7f63d6d",
   "metadata": {},
   "outputs": [],
   "source": [
    "ifo = 10"
   ]
  },
  {
   "cell_type": "code",
   "execution_count": 11,
   "id": "e8534e3d",
   "metadata": {},
   "outputs": [],
   "source": [
    "tuplu = (1, 2, 3, 5, 55, 321)"
   ]
  },
  {
   "cell_type": "code",
   "execution_count": 12,
   "id": "4370400a",
   "metadata": {},
   "outputs": [
    {
     "data": {
      "text/plain": [
       "6"
      ]
     },
     "execution_count": 12,
     "metadata": {},
     "output_type": "execute_result"
    }
   ],
   "source": [
    "len(tuplu)"
   ]
  },
  {
   "cell_type": "code",
   "execution_count": 13,
   "id": "86278e8b",
   "metadata": {},
   "outputs": [
    {
     "data": {
      "text/plain": [
       "1"
      ]
     },
     "execution_count": 13,
     "metadata": {},
     "output_type": "execute_result"
    }
   ],
   "source": [
    "tuplu[0]"
   ]
  },
  {
   "cell_type": "code",
   "execution_count": 14,
   "id": "0e5cad12",
   "metadata": {},
   "outputs": [
    {
     "data": {
      "text/plain": [
       "321"
      ]
     },
     "execution_count": 14,
     "metadata": {},
     "output_type": "execute_result"
    }
   ],
   "source": [
    "tuplu[5]"
   ]
  },
  {
   "cell_type": "code",
   "execution_count": 15,
   "id": "4dac4a51",
   "metadata": {},
   "outputs": [
    {
     "data": {
      "text/plain": [
       "321"
      ]
     },
     "execution_count": 15,
     "metadata": {},
     "output_type": "execute_result"
    }
   ],
   "source": [
    "tuplu[ len(tuplu) - 1]"
   ]
  },
  {
   "cell_type": "code",
   "execution_count": 16,
   "id": "ce3bfe96",
   "metadata": {},
   "outputs": [
    {
     "data": {
      "text/plain": [
       "321"
      ]
     },
     "execution_count": 16,
     "metadata": {},
     "output_type": "execute_result"
    }
   ],
   "source": [
    "tuplu[ - 1]"
   ]
  },
  {
   "cell_type": "code",
   "execution_count": 17,
   "id": "df8cd949",
   "metadata": {},
   "outputs": [],
   "source": [
    "tuplu = (1, 2, 3, 5, 55, 321)"
   ]
  },
  {
   "cell_type": "code",
   "execution_count": 18,
   "id": "a1ab1ccd",
   "metadata": {},
   "outputs": [
    {
     "data": {
      "text/plain": [
       "55"
      ]
     },
     "execution_count": 18,
     "metadata": {},
     "output_type": "execute_result"
    }
   ],
   "source": [
    "tuplu[-2]"
   ]
  },
  {
   "cell_type": "code",
   "execution_count": 19,
   "id": "c463dd26",
   "metadata": {},
   "outputs": [
    {
     "data": {
      "text/plain": [
       "5"
      ]
     },
     "execution_count": 19,
     "metadata": {},
     "output_type": "execute_result"
    }
   ],
   "source": [
    "tuplu[-3]"
   ]
  },
  {
   "cell_type": "code",
   "execution_count": 20,
   "id": "0ec94180",
   "metadata": {},
   "outputs": [
    {
     "data": {
      "text/plain": [
       "'a'"
      ]
     },
     "execution_count": 20,
     "metadata": {},
     "output_type": "execute_result"
    }
   ],
   "source": [
    "string = \"Buna dimineata\"\n",
    "string[-1]"
   ]
  },
  {
   "cell_type": "code",
   "execution_count": 21,
   "id": "53713383",
   "metadata": {},
   "outputs": [
    {
     "data": {
      "text/plain": [
       "'t'"
      ]
     },
     "execution_count": 21,
     "metadata": {},
     "output_type": "execute_result"
    }
   ],
   "source": [
    "string[-2]"
   ]
  },
  {
   "cell_type": "code",
   "execution_count": 22,
   "id": "e94145b0",
   "metadata": {},
   "outputs": [
    {
     "data": {
      "text/plain": [
       "'Buna'"
      ]
     },
     "execution_count": 22,
     "metadata": {},
     "output_type": "execute_result"
    }
   ],
   "source": [
    "string[0 : 4]"
   ]
  },
  {
   "cell_type": "code",
   "execution_count": 23,
   "id": "b2d04d18",
   "metadata": {},
   "outputs": [
    {
     "data": {
      "text/plain": [
       "[412312]"
      ]
     },
     "execution_count": 23,
     "metadata": {},
     "output_type": "execute_result"
    }
   ],
   "source": [
    "lista = [300, 410, 321, 321, 321, 312, 412312, 51]\n",
    "lista[-2:-1]"
   ]
  },
  {
   "cell_type": "code",
   "execution_count": 24,
   "id": "150f7b0b",
   "metadata": {},
   "outputs": [
    {
     "data": {
      "text/plain": [
       "[412312, 51]"
      ]
     },
     "execution_count": 24,
     "metadata": {},
     "output_type": "execute_result"
    }
   ],
   "source": [
    "lista[-2:]"
   ]
  },
  {
   "cell_type": "code",
   "execution_count": 25,
   "id": "20bee4f7",
   "metadata": {},
   "outputs": [
    {
     "data": {
      "text/plain": [
       "[300, 410]"
      ]
     },
     "execution_count": 25,
     "metadata": {},
     "output_type": "execute_result"
    }
   ],
   "source": [
    "lista[0:2]"
   ]
  },
  {
   "cell_type": "code",
   "execution_count": 26,
   "id": "2e896ddb",
   "metadata": {},
   "outputs": [
    {
     "data": {
      "text/plain": [
       "[300, 410]"
      ]
     },
     "execution_count": 26,
     "metadata": {},
     "output_type": "execute_result"
    }
   ],
   "source": [
    "lista[:2]"
   ]
  },
  {
   "cell_type": "code",
   "execution_count": 27,
   "id": "18bd9da8",
   "metadata": {},
   "outputs": [],
   "source": [
    "lista = [300, 410, 321, 321, 321, 312, 412312, 51]\n",
    "lista.append(300)"
   ]
  },
  {
   "cell_type": "code",
   "execution_count": 28,
   "id": "eed585d1",
   "metadata": {},
   "outputs": [
    {
     "data": {
      "text/plain": [
       "[300, 410, 321, 321, 321, 312, 412312, 51, 300]"
      ]
     },
     "execution_count": 28,
     "metadata": {},
     "output_type": "execute_result"
    }
   ],
   "source": [
    "lista"
   ]
  },
  {
   "cell_type": "code",
   "execution_count": 31,
   "id": "8cad5694",
   "metadata": {},
   "outputs": [],
   "source": [
    "tuplu = (300, 410, 321, 321, 321, 312, 412312, 51)\n",
    "# tuplu.append(300) ## EROARE - IMUTABIL"
   ]
  },
  {
   "cell_type": "code",
   "execution_count": 32,
   "id": "d1900402",
   "metadata": {},
   "outputs": [],
   "source": [
    "tuplu = (300, 410, 321, 321, 321, 312, 412312, 51, 300)"
   ]
  },
  {
   "cell_type": "code",
   "execution_count": null,
   "id": "a414bdcb",
   "metadata": {},
   "outputs": [],
   "source": []
  }
 ],
 "metadata": {
  "kernelspec": {
   "display_name": "Python 3",
   "language": "python",
   "name": "python3"
  },
  "language_info": {
   "codemirror_mode": {
    "name": "ipython",
    "version": 3
   },
   "file_extension": ".py",
   "mimetype": "text/x-python",
   "name": "python",
   "nbconvert_exporter": "python",
   "pygments_lexer": "ipython3",
   "version": "3.13.3"
  }
 },
 "nbformat": 4,
 "nbformat_minor": 5
}
