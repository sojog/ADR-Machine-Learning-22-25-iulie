{
 "cells": [
  {
   "cell_type": "code",
   "execution_count": 2,
   "id": "b6026bf3",
   "metadata": {},
   "outputs": [
    {
     "data": {
      "text/plain": [
       "bool"
      ]
     },
     "execution_count": 2,
     "metadata": {},
     "output_type": "execute_result"
    }
   ],
   "source": [
    "x = True\n",
    "type(x)"
   ]
  },
  {
   "cell_type": "code",
   "execution_count": 4,
   "id": "23b832d0",
   "metadata": {},
   "outputs": [
    {
     "data": {
      "text/plain": [
       "str"
      ]
     },
     "execution_count": 4,
     "metadata": {},
     "output_type": "execute_result"
    }
   ],
   "source": [
    "x = \"True\"\n",
    "type(x)"
   ]
  },
  {
   "cell_type": "code",
   "execution_count": 5,
   "id": "aac35b6e",
   "metadata": {},
   "outputs": [
    {
     "name": "stdout",
     "output_type": "stream",
     "text": [
      "False\n"
     ]
    }
   ],
   "source": [
    "x = True\n",
    "not_x = not x\n",
    "print(not_x)"
   ]
  },
  {
   "cell_type": "code",
   "execution_count": 6,
   "id": "15efdf67",
   "metadata": {},
   "outputs": [
    {
     "name": "stdout",
     "output_type": "stream",
     "text": [
      "False\n"
     ]
    }
   ],
   "source": [
    "a = 100\n",
    "print(not a)"
   ]
  },
  {
   "cell_type": "code",
   "execution_count": 7,
   "id": "e4edf467",
   "metadata": {},
   "outputs": [
    {
     "name": "stdout",
     "output_type": "stream",
     "text": [
      "True\n"
     ]
    }
   ],
   "source": [
    "a = 0\n",
    "print(not a)"
   ]
  },
  {
   "cell_type": "code",
   "execution_count": 8,
   "id": "8ac4905c",
   "metadata": {},
   "outputs": [
    {
     "name": "stdout",
     "output_type": "stream",
     "text": [
      "True\n"
     ]
    }
   ],
   "source": [
    "a = 0\n",
    "print(not bool(a))"
   ]
  },
  {
   "cell_type": "code",
   "execution_count": 9,
   "id": "dc9527cb",
   "metadata": {},
   "outputs": [
    {
     "name": "stdout",
     "output_type": "stream",
     "text": [
      "False\n"
     ]
    }
   ],
   "source": [
    "s = \"hello\"\n",
    "print(not s)"
   ]
  },
  {
   "cell_type": "code",
   "execution_count": 10,
   "id": "40f13fbb",
   "metadata": {},
   "outputs": [
    {
     "data": {
      "text/plain": [
       "True"
      ]
     },
     "execution_count": 10,
     "metadata": {},
     "output_type": "execute_result"
    }
   ],
   "source": [
    "bool(\"hello\")"
   ]
  },
  {
   "cell_type": "code",
   "execution_count": 11,
   "id": "b40f7f71",
   "metadata": {},
   "outputs": [
    {
     "data": {
      "text/plain": [
       "False"
      ]
     },
     "execution_count": 11,
     "metadata": {},
     "output_type": "execute_result"
    }
   ],
   "source": [
    "bool(\"\")"
   ]
  },
  {
   "cell_type": "code",
   "execution_count": 12,
   "id": "f89bb82c",
   "metadata": {},
   "outputs": [
    {
     "data": {
      "text/plain": [
       "True"
      ]
     },
     "execution_count": 12,
     "metadata": {},
     "output_type": "execute_result"
    }
   ],
   "source": [
    "bool(\" \")"
   ]
  },
  {
   "cell_type": "code",
   "execution_count": 13,
   "id": "e1967b21",
   "metadata": {},
   "outputs": [
    {
     "data": {
      "text/plain": [
       "True"
      ]
     },
     "execution_count": 13,
     "metadata": {},
     "output_type": "execute_result"
    }
   ],
   "source": [
    "bool(\"0\")"
   ]
  },
  {
   "cell_type": "code",
   "execution_count": 14,
   "id": "a822160a",
   "metadata": {},
   "outputs": [
    {
     "name": "stdout",
     "output_type": "stream",
     "text": [
      "Stringul are cel putin un caracter\n"
     ]
    }
   ],
   "source": [
    "x = \"rosu\"\n",
    "\n",
    "if x:\n",
    "    print(\"Stringul are cel putin un caracter\")\n",
    "else:\n",
    "    print(\"Stringul nu are niciun caracter\")"
   ]
  },
  {
   "cell_type": "code",
   "execution_count": 15,
   "id": "0726d33e",
   "metadata": {},
   "outputs": [
    {
     "name": "stdout",
     "output_type": "stream",
     "text": [
      "Stringul nu are niciun caracter\n"
     ]
    }
   ],
   "source": [
    "x = \"\"\n",
    "\n",
    "if x:\n",
    "    print(\"Stringul are cel putin un caracter\")\n",
    "else:\n",
    "    print(\"Stringul nu are niciun caracter\")"
   ]
  },
  {
   "cell_type": "code",
   "execution_count": 16,
   "id": "294e7387",
   "metadata": {},
   "outputs": [
    {
     "name": "stdout",
     "output_type": "stream",
     "text": [
      "Lista e goala\n"
     ]
    }
   ],
   "source": [
    "x = []\n",
    "\n",
    "if x:\n",
    "    print(\"Lista nu e goala \")\n",
    "else:\n",
    "    print(\"Lista e goala\")"
   ]
  },
  {
   "cell_type": "code",
   "execution_count": 17,
   "id": "b56beadb",
   "metadata": {},
   "outputs": [
    {
     "name": "stdout",
     "output_type": "stream",
     "text": [
      "Lista nu e goala \n"
     ]
    }
   ],
   "source": [
    "x = [\"\"]\n",
    "\n",
    "if x:\n",
    "    print(\"Lista nu e goala \")\n",
    "else:\n",
    "    print(\"Lista e goala\")"
   ]
  },
  {
   "cell_type": "code",
   "execution_count": 18,
   "id": "98fe00d6",
   "metadata": {},
   "outputs": [
    {
     "data": {
      "text/plain": [
       "False"
      ]
     },
     "execution_count": 18,
     "metadata": {},
     "output_type": "execute_result"
    }
   ],
   "source": [
    "\n",
    "x = True\n",
    "y = False\n",
    "x and y\n"
   ]
  },
  {
   "cell_type": "code",
   "execution_count": 20,
   "id": "904aab8e",
   "metadata": {},
   "outputs": [
    {
     "data": {
      "text/plain": [
       "False"
      ]
     },
     "execution_count": 20,
     "metadata": {},
     "output_type": "execute_result"
    }
   ],
   "source": [
    "x = True\n",
    "y = False\n",
    "x & y"
   ]
  },
  {
   "cell_type": "code",
   "execution_count": 21,
   "id": "3f4d9440",
   "metadata": {},
   "outputs": [
    {
     "data": {
      "text/plain": [
       "True"
      ]
     },
     "execution_count": 21,
     "metadata": {},
     "output_type": "execute_result"
    }
   ],
   "source": [
    "x = True\n",
    "y = True\n",
    "x and y"
   ]
  },
  {
   "cell_type": "code",
   "execution_count": 22,
   "id": "4a19852d",
   "metadata": {},
   "outputs": [
    {
     "data": {
      "text/plain": [
       "True"
      ]
     },
     "execution_count": 22,
     "metadata": {},
     "output_type": "execute_result"
    }
   ],
   "source": [
    "x = True\n",
    "y = True\n",
    "x or y"
   ]
  },
  {
   "cell_type": "code",
   "execution_count": 23,
   "id": "d8983e86",
   "metadata": {},
   "outputs": [
    {
     "data": {
      "text/plain": [
       "False"
      ]
     },
     "execution_count": 23,
     "metadata": {},
     "output_type": "execute_result"
    }
   ],
   "source": [
    "x = False\n",
    "y = False\n",
    "x or y"
   ]
  },
  {
   "cell_type": "code",
   "execution_count": 24,
   "id": "3fb299ab",
   "metadata": {},
   "outputs": [
    {
     "data": {
      "text/plain": [
       "'Ma iubeste'"
      ]
     },
     "execution_count": 24,
     "metadata": {},
     "output_type": "execute_result"
    }
   ],
   "source": [
    "x = \"Ma iubeste\"\n",
    "y = \"Nu ma iubeste\"\n",
    "x or y"
   ]
  },
  {
   "cell_type": "code",
   "execution_count": 25,
   "id": "9fa3f359",
   "metadata": {},
   "outputs": [
    {
     "data": {
      "text/plain": [
       "'Nu ma iubeste'"
      ]
     },
     "execution_count": 25,
     "metadata": {},
     "output_type": "execute_result"
    }
   ],
   "source": [
    "x = \"\"\n",
    "y = \"Nu ma iubeste\"\n",
    "x or y"
   ]
  },
  {
   "cell_type": "code",
   "execution_count": 26,
   "id": "44045999",
   "metadata": {},
   "outputs": [
    {
     "data": {
      "text/plain": [
       "'Nu ma iubeste'"
      ]
     },
     "execution_count": 26,
     "metadata": {},
     "output_type": "execute_result"
    }
   ],
   "source": [
    "x = \"Ma iubeste\"\n",
    "y = \"Nu ma iubeste\"\n",
    "x and y"
   ]
  },
  {
   "cell_type": "code",
   "execution_count": 27,
   "id": "2871fbbb",
   "metadata": {},
   "outputs": [
    {
     "data": {
      "text/plain": [
       "''"
      ]
     },
     "execution_count": 27,
     "metadata": {},
     "output_type": "execute_result"
    }
   ],
   "source": [
    "x = \"\"\n",
    "y = \"Nu ma iubeste\"\n",
    "x and y"
   ]
  }
 ],
 "metadata": {
  "kernelspec": {
   "display_name": "Python 3",
   "language": "python",
   "name": "python3"
  },
  "language_info": {
   "codemirror_mode": {
    "name": "ipython",
    "version": 3
   },
   "file_extension": ".py",
   "mimetype": "text/x-python",
   "name": "python",
   "nbconvert_exporter": "python",
   "pygments_lexer": "ipython3",
   "version": "3.13.3"
  }
 },
 "nbformat": 4,
 "nbformat_minor": 5
}
