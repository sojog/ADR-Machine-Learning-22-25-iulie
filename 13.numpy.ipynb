{
 "cells": [
  {
   "cell_type": "code",
   "execution_count": 1,
   "id": "be9dd9f4",
   "metadata": {},
   "outputs": [],
   "source": [
    "import numpy as np"
   ]
  },
  {
   "cell_type": "code",
   "execution_count": 2,
   "id": "2ba41910",
   "metadata": {},
   "outputs": [
    {
     "data": {
      "text/plain": [
       "'\\nNumPy\\n=====\\n\\nProvides\\n  1. An array object of arbitrary homogeneous items\\n  2. Fast mathematical operations over arrays\\n  3. Linear Algebra, Fourier Transforms, Random Number Generation\\n\\nHow to use the documentation\\n----------------------------\\nDocumentation is available in two forms: docstrings provided\\nwith the code, and a loose standing reference guide, available from\\n`the NumPy homepage <https://numpy.org>`_.\\n\\nWe recommend exploring the docstrings using\\n`IPython <https://ipython.org>`_, an advanced Python shell with\\nTAB-completion and introspection capabilities.  See below for further\\ninstructions.\\n\\nThe docstring examples assume that `numpy` has been imported as ``np``::\\n\\n  >>> import numpy as np\\n\\nCode snippets are indicated by three greater-than signs::\\n\\n  >>> x = 42\\n  >>> x = x + 1\\n\\nUse the built-in ``help`` function to view a function\\'s docstring::\\n\\n  >>> help(np.sort)\\n  ... # doctest: +SKIP\\n\\nFor some objects, ``np.info(obj)`` may provide additional help.  This is\\nparticularly true if you see the line \"Help on ufunc object:\" at the top\\nof the help() page.  Ufuncs are implemented in C, not Python, for speed.\\nThe native Python help() does not know how to view their help, but our\\nnp.info() function does.\\n\\nAvailable subpackages\\n---------------------\\nlib\\n    Basic functions used by several sub-packages.\\nrandom\\n    Core Random Tools\\nlinalg\\n    Core Linear Algebra Tools\\nfft\\n    Core FFT routines\\npolynomial\\n    Polynomial tools\\ntesting\\n    NumPy testing tools\\ndistutils\\n    Enhancements to distutils with support for\\n    Fortran compilers support and more (for Python <= 3.11)\\n\\nUtilities\\n---------\\ntest\\n    Run numpy unittests\\nshow_config\\n    Show numpy build configuration\\n__version__\\n    NumPy version string\\n\\nViewing documentation using IPython\\n-----------------------------------\\n\\nStart IPython and import `numpy` usually under the alias ``np``: `import\\nnumpy as np`.  Then, directly past or use the ``%cpaste`` magic to paste\\nexamples into the shell.  To see which functions are available in `numpy`,\\ntype ``np.<TAB>`` (where ``<TAB>`` refers to the TAB key), or use\\n``np.*cos*?<ENTER>`` (where ``<ENTER>`` refers to the ENTER key) to narrow\\ndown the list.  To view the docstring for a function, use\\n``np.cos?<ENTER>`` (to view the docstring) and ``np.cos??<ENTER>`` (to view\\nthe source code).\\n\\nCopies vs. in-place operation\\n-----------------------------\\nMost of the functions in `numpy` return a copy of the array argument\\n(e.g., `np.sort`).  In-place versions of these functions are often\\navailable as array methods, i.e. ``x = np.array([1,2,3]); x.sort()``.\\nExceptions to this rule are documented.\\n\\n'"
      ]
     },
     "execution_count": 2,
     "metadata": {},
     "output_type": "execute_result"
    }
   ],
   "source": [
    "np.__doc__"
   ]
  },
  {
   "cell_type": "code",
   "execution_count": 3,
   "id": "4a258e64",
   "metadata": {},
   "outputs": [
    {
     "name": "stdout",
     "output_type": "stream",
     "text": [
      "\n",
      "NumPy\n",
      "=====\n",
      "\n",
      "Provides\n",
      "  1. An array object of arbitrary homogeneous items\n",
      "  2. Fast mathematical operations over arrays\n",
      "  3. Linear Algebra, Fourier Transforms, Random Number Generation\n",
      "\n",
      "How to use the documentation\n",
      "----------------------------\n",
      "Documentation is available in two forms: docstrings provided\n",
      "with the code, and a loose standing reference guide, available from\n",
      "`the NumPy homepage <https://numpy.org>`_.\n",
      "\n",
      "We recommend exploring the docstrings using\n",
      "`IPython <https://ipython.org>`_, an advanced Python shell with\n",
      "TAB-completion and introspection capabilities.  See below for further\n",
      "instructions.\n",
      "\n",
      "The docstring examples assume that `numpy` has been imported as ``np``::\n",
      "\n",
      "  >>> import numpy as np\n",
      "\n",
      "Code snippets are indicated by three greater-than signs::\n",
      "\n",
      "  >>> x = 42\n",
      "  >>> x = x + 1\n",
      "\n",
      "Use the built-in ``help`` function to view a function's docstring::\n",
      "\n",
      "  >>> help(np.sort)\n",
      "  ... # doctest: +SKIP\n",
      "\n",
      "For some objects, ``np.info(obj)`` may provide additional help.  This is\n",
      "particularly true if you see the line \"Help on ufunc object:\" at the top\n",
      "of the help() page.  Ufuncs are implemented in C, not Python, for speed.\n",
      "The native Python help() does not know how to view their help, but our\n",
      "np.info() function does.\n",
      "\n",
      "Available subpackages\n",
      "---------------------\n",
      "lib\n",
      "    Basic functions used by several sub-packages.\n",
      "random\n",
      "    Core Random Tools\n",
      "linalg\n",
      "    Core Linear Algebra Tools\n",
      "fft\n",
      "    Core FFT routines\n",
      "polynomial\n",
      "    Polynomial tools\n",
      "testing\n",
      "    NumPy testing tools\n",
      "distutils\n",
      "    Enhancements to distutils with support for\n",
      "    Fortran compilers support and more (for Python <= 3.11)\n",
      "\n",
      "Utilities\n",
      "---------\n",
      "test\n",
      "    Run numpy unittests\n",
      "show_config\n",
      "    Show numpy build configuration\n",
      "__version__\n",
      "    NumPy version string\n",
      "\n",
      "Viewing documentation using IPython\n",
      "-----------------------------------\n",
      "\n",
      "Start IPython and import `numpy` usually under the alias ``np``: `import\n",
      "numpy as np`.  Then, directly past or use the ``%cpaste`` magic to paste\n",
      "examples into the shell.  To see which functions are available in `numpy`,\n",
      "type ``np.<TAB>`` (where ``<TAB>`` refers to the TAB key), or use\n",
      "``np.*cos*?<ENTER>`` (where ``<ENTER>`` refers to the ENTER key) to narrow\n",
      "down the list.  To view the docstring for a function, use\n",
      "``np.cos?<ENTER>`` (to view the docstring) and ``np.cos??<ENTER>`` (to view\n",
      "the source code).\n",
      "\n",
      "Copies vs. in-place operation\n",
      "-----------------------------\n",
      "Most of the functions in `numpy` return a copy of the array argument\n",
      "(e.g., `np.sort`).  In-place versions of these functions are often\n",
      "available as array methods, i.e. ``x = np.array([1,2,3]); x.sort()``.\n",
      "Exceptions to this rule are documented.\n",
      "\n",
      "\n"
     ]
    }
   ],
   "source": [
    "print(np.__doc__)"
   ]
  },
  {
   "cell_type": "code",
   "execution_count": 5,
   "id": "a97672cf",
   "metadata": {},
   "outputs": [
    {
     "data": {
      "text/plain": [
       "[10, 20, 'hello', 30.3, True]"
      ]
     },
     "execution_count": 5,
     "metadata": {},
     "output_type": "execute_result"
    }
   ],
   "source": [
    "lista = [10, 20, \"hello\", 30.3, True]\n",
    "lista"
   ]
  },
  {
   "cell_type": "code",
   "execution_count": null,
   "id": "ea70d8b8",
   "metadata": {},
   "outputs": [
    {
     "data": {
      "text/plain": [
       "array(['10', '20', 'hello', '30.3', 'True'], dtype='<U32')"
      ]
     },
     "execution_count": 6,
     "metadata": {},
     "output_type": "execute_result"
    }
   ],
   "source": [
    "np.array(lista)"
   ]
  },
  {
   "cell_type": "code",
   "execution_count": 10,
   "id": "45425759",
   "metadata": {},
   "outputs": [
    {
     "data": {
      "text/plain": [
       "(numpy.ndarray,\n",
       " array(['10', '20', 'hello', '30.3', 'True'], dtype='<U32'),\n",
       " dtype('<U32'))"
      ]
     },
     "execution_count": 10,
     "metadata": {},
     "output_type": "execute_result"
    }
   ],
   "source": [
    "lista = [10, 20, \"hello\", 30.3, True]\n",
    "array = np.array(lista)\n",
    "type(array), array, array.dtype"
   ]
  },
  {
   "cell_type": "code",
   "execution_count": 11,
   "id": "7546ae95",
   "metadata": {},
   "outputs": [
    {
     "data": {
      "text/plain": [
       "(numpy.ndarray, array([10. , 20. , 30.3,  1. ]), dtype('float64'))"
      ]
     },
     "execution_count": 11,
     "metadata": {},
     "output_type": "execute_result"
    }
   ],
   "source": [
    "lista = [10, 20, 30.3, True]\n",
    "array = np.array(lista)\n",
    "type(array), array, array.dtype"
   ]
  },
  {
   "cell_type": "code",
   "execution_count": 12,
   "id": "b9007568",
   "metadata": {},
   "outputs": [
    {
     "data": {
      "text/plain": [
       "(numpy.ndarray, array([10, 20, 30,  1]), dtype('int64'))"
      ]
     },
     "execution_count": 12,
     "metadata": {},
     "output_type": "execute_result"
    }
   ],
   "source": [
    "lista = [10, 20, 30, True]\n",
    "array = np.array(lista)\n",
    "type(array), array, array.dtype"
   ]
  },
  {
   "cell_type": "code",
   "execution_count": 13,
   "id": "0adcb7a9",
   "metadata": {},
   "outputs": [
    {
     "data": {
      "text/plain": [
       "(numpy.ndarray, array([10, 20, 30,  1], dtype=int8), dtype('int8'))"
      ]
     },
     "execution_count": 13,
     "metadata": {},
     "output_type": "execute_result"
    }
   ],
   "source": [
    "lista = [10, 20, 30, True]\n",
    "array = np.array(lista, dtype=np.int8)\n",
    "type(array), array, array.dtype"
   ]
  },
  {
   "cell_type": "code",
   "execution_count": 14,
   "id": "9bcca708",
   "metadata": {},
   "outputs": [
    {
     "data": {
      "text/plain": [
       "256"
      ]
     },
     "execution_count": 14,
     "metadata": {},
     "output_type": "execute_result"
    }
   ],
   "source": [
    "2 ** 8"
   ]
  },
  {
   "cell_type": "code",
   "execution_count": 15,
   "id": "29d0c00b",
   "metadata": {},
   "outputs": [
    {
     "data": {
      "text/plain": [
       "'0b100000000'"
      ]
     },
     "execution_count": 15,
     "metadata": {},
     "output_type": "execute_result"
    }
   ],
   "source": [
    "bin(256)"
   ]
  },
  {
   "cell_type": "code",
   "execution_count": 16,
   "id": "c3b8df79",
   "metadata": {},
   "outputs": [
    {
     "data": {
      "text/plain": [
       "'0b11111111'"
      ]
     },
     "execution_count": 16,
     "metadata": {},
     "output_type": "execute_result"
    }
   ],
   "source": [
    "bin(255)"
   ]
  },
  {
   "cell_type": "code",
   "execution_count": 18,
   "id": "c96be913",
   "metadata": {},
   "outputs": [
    {
     "data": {
      "text/plain": [
       "(numpy.ndarray, array([ 10,  20,  30, 255], dtype=uint8), dtype('uint8'))"
      ]
     },
     "execution_count": 18,
     "metadata": {},
     "output_type": "execute_result"
    }
   ],
   "source": [
    "lista = [10, 20, 30, 255]\n",
    "array = np.array(lista, dtype=np.uint8)\n",
    "type(array), array, array.dtype"
   ]
  },
  {
   "cell_type": "code",
   "execution_count": 19,
   "id": "81edf6af",
   "metadata": {},
   "outputs": [
    {
     "data": {
      "text/plain": [
       "(numpy.ndarray, array([ 10,  20,  30, 127], dtype=int8), dtype('int8'))"
      ]
     },
     "execution_count": 19,
     "metadata": {},
     "output_type": "execute_result"
    }
   ],
   "source": [
    "lista = [10, 20, 30, 255 // 2]\n",
    "array = np.array(lista, dtype=np.int8)\n",
    "type(array), array, array.dtype"
   ]
  },
  {
   "cell_type": "code",
   "execution_count": 20,
   "id": "8e48bc49",
   "metadata": {},
   "outputs": [
    {
     "data": {
      "text/plain": [
       "(numpy.ndarray,\n",
       " array([  10,   20,   30,  127, -128], dtype=int8),\n",
       " dtype('int8'))"
      ]
     },
     "execution_count": 20,
     "metadata": {},
     "output_type": "execute_result"
    }
   ],
   "source": [
    "lista = [10, 20, 30, 255 // 2, -128]\n",
    "array = np.array(lista, dtype=np.int8)\n",
    "type(array), array, array.dtype"
   ]
  },
  {
   "cell_type": "code",
   "execution_count": 22,
   "id": "4bd5e8a6",
   "metadata": {},
   "outputs": [
    {
     "data": {
      "text/plain": [
       "(numpy.ndarray,\n",
       " array([  10,   20,   30,  127, -127], dtype=int8),\n",
       " dtype('int8'))"
      ]
     },
     "execution_count": 22,
     "metadata": {},
     "output_type": "execute_result"
    }
   ],
   "source": [
    "lista = [10, 20, 30, 255 // 2, -127]\n",
    "array = np.array(lista, dtype=np.int8)\n",
    "type(array), array, array.dtype"
   ]
  },
  {
   "cell_type": "code",
   "execution_count": 23,
   "id": "833a5305",
   "metadata": {},
   "outputs": [
    {
     "data": {
      "text/plain": [
       "[2, 3, [5, 6]]"
      ]
     },
     "execution_count": 23,
     "metadata": {},
     "output_type": "execute_result"
    }
   ],
   "source": [
    "lista = [2, 3, [5, 6]]\n",
    "lista"
   ]
  },
  {
   "cell_type": "code",
   "execution_count": 26,
   "id": "d49cda72",
   "metadata": {},
   "outputs": [
    {
     "data": {
      "text/plain": [
       "array([[2, 3],\n",
       "       [5, 6]])"
      ]
     },
     "execution_count": 26,
     "metadata": {},
     "output_type": "execute_result"
    }
   ],
   "source": [
    "lista = [[2, 3], [5, 6]]\n",
    "array = np.array(lista)\n",
    "array"
   ]
  },
  {
   "cell_type": "code",
   "execution_count": 27,
   "id": "013e9b7e",
   "metadata": {},
   "outputs": [
    {
     "data": {
      "text/plain": [
       "(array([[2, 3],\n",
       "        [5, 6]]),\n",
       " (2, 2))"
      ]
     },
     "execution_count": 27,
     "metadata": {},
     "output_type": "execute_result"
    }
   ],
   "source": [
    "lista = [[2, 3], [5, 6]]\n",
    "array = np.array(lista)\n",
    "array, array.shape"
   ]
  },
  {
   "cell_type": "code",
   "execution_count": 28,
   "id": "9f34b043",
   "metadata": {},
   "outputs": [
    {
     "data": {
      "text/plain": [
       "(array([[2, 3],\n",
       "        [5, 6],\n",
       "        [7, 9]]),\n",
       " (3, 2))"
      ]
     },
     "execution_count": 28,
     "metadata": {},
     "output_type": "execute_result"
    }
   ],
   "source": [
    "lista = [[2, 3], [5, 6], [7, 9]]\n",
    "array = np.array(lista)\n",
    "array, array.shape"
   ]
  },
  {
   "cell_type": "code",
   "execution_count": 30,
   "id": "1529d4ed",
   "metadata": {},
   "outputs": [
    {
     "data": {
      "text/plain": [
       "(array([[2, 3],\n",
       "        [5, 6],\n",
       "        [7, None]], dtype=object),\n",
       " (3, 2))"
      ]
     },
     "execution_count": 30,
     "metadata": {},
     "output_type": "execute_result"
    }
   ],
   "source": [
    "lista = [[2, 3], [5, 6], [7, None]]\n",
    "array = np.array(lista)\n",
    "array, array.shape"
   ]
  },
  {
   "cell_type": "code",
   "execution_count": 31,
   "id": "79194162",
   "metadata": {},
   "outputs": [
    {
     "data": {
      "text/plain": [
       "array([2, 3, 5, 6, 7, None], dtype=object)"
      ]
     },
     "execution_count": 31,
     "metadata": {},
     "output_type": "execute_result"
    }
   ],
   "source": [
    "lista = [[2, 3], [5, 6], [7, None]]\n",
    "array = np.array(lista)\n",
    "array.flatten()"
   ]
  },
  {
   "cell_type": "code",
   "execution_count": 34,
   "id": "da8c0279",
   "metadata": {},
   "outputs": [
    {
     "data": {
      "text/plain": [
       "(array([[2, 3, 5],\n",
       "        [6, 7, None]], dtype=object),\n",
       " (2, 3))"
      ]
     },
     "execution_count": 34,
     "metadata": {},
     "output_type": "execute_result"
    }
   ],
   "source": [
    "lista = [[2, 3], [5, 6], [7, None]]\n",
    "array = np.array(lista)\n",
    "array = array.reshape((2, 3))\n",
    "array, array.shape"
   ]
  },
  {
   "cell_type": "code",
   "execution_count": 36,
   "id": "5cad399d",
   "metadata": {},
   "outputs": [
    {
     "data": {
      "text/plain": [
       "(array([[2, 3, 5],\n",
       "        [6, 7, None]], dtype=object),\n",
       " (2, 3))"
      ]
     },
     "execution_count": 36,
     "metadata": {},
     "output_type": "execute_result"
    }
   ],
   "source": [
    "lista = [[2, 3], [5, 6], [7, None]]\n",
    "array = np.array(lista)\n",
    "array = array.reshape((2, 3))\n",
    "array, array.shape"
   ]
  },
  {
   "cell_type": "code",
   "execution_count": null,
   "id": "5b5a95cd",
   "metadata": {},
   "outputs": [],
   "source": []
  }
 ],
 "metadata": {
  "kernelspec": {
   "display_name": "Python 3",
   "language": "python",
   "name": "python3"
  },
  "language_info": {
   "codemirror_mode": {
    "name": "ipython",
    "version": 3
   },
   "file_extension": ".py",
   "mimetype": "text/x-python",
   "name": "python",
   "nbconvert_exporter": "python",
   "pygments_lexer": "ipython3",
   "version": "3.13.3"
  }
 },
 "nbformat": 4,
 "nbformat_minor": 5
}
