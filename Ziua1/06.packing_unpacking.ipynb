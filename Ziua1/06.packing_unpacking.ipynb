{
 "cells": [
  {
   "cell_type": "code",
   "execution_count": 2,
   "id": "c88e4c3f",
   "metadata": {},
   "outputs": [
    {
     "name": "stdout",
     "output_type": "stream",
     "text": [
      "x= 10 y= 300\n"
     ]
    }
   ],
   "source": [
    "x = 10\n",
    "y = 300\n",
    "print(\"x=\", x, \"y=\", y)"
   ]
  },
  {
   "cell_type": "code",
   "execution_count": 3,
   "id": "611c9a3b",
   "metadata": {},
   "outputs": [
    {
     "name": "stdout",
     "output_type": "stream",
     "text": [
      "x= 300 y= 10\n"
     ]
    }
   ],
   "source": [
    "aux = x\n",
    "x = y\n",
    "y = aux\n",
    "print(\"x=\", x, \"y=\", y)"
   ]
  },
  {
   "cell_type": "code",
   "execution_count": 5,
   "id": "18e6d91b",
   "metadata": {},
   "outputs": [
    {
     "name": "stdout",
     "output_type": "stream",
     "text": [
      "x= 42523 y= 99999\n"
     ]
    }
   ],
   "source": [
    "x = 42523\n",
    "y = 99999\n",
    "print(\"x=\", x, \"y=\", y)"
   ]
  },
  {
   "cell_type": "code",
   "execution_count": null,
   "id": "4d04a6de",
   "metadata": {},
   "outputs": [
    {
     "name": "stdout",
     "output_type": "stream",
     "text": [
      "x= 99999 y= 42523\n"
     ]
    }
   ],
   "source": [
    "# unpacking / packing\n",
    "x, y = y, x\n",
    "print(\"x=\", x, \"y=\", y)"
   ]
  },
  {
   "cell_type": "code",
   "execution_count": 7,
   "id": "3632a71e",
   "metadata": {},
   "outputs": [
    {
     "data": {
      "text/plain": [
       "(99999, 42523)"
      ]
     },
     "execution_count": 7,
     "metadata": {},
     "output_type": "execute_result"
    }
   ],
   "source": [
    "colectie = (x, y)\n",
    "colectie"
   ]
  },
  {
   "cell_type": "code",
   "execution_count": 9,
   "id": "eef1a3cd",
   "metadata": {},
   "outputs": [
    {
     "data": {
      "text/plain": [
       "(99999, 42523)"
      ]
     },
     "execution_count": 9,
     "metadata": {},
     "output_type": "execute_result"
    }
   ],
   "source": [
    "a, b = colectie\n",
    "a, b"
   ]
  },
  {
   "cell_type": "code",
   "execution_count": 14,
   "id": "5bb91996",
   "metadata": {},
   "outputs": [],
   "source": [
    "a, b, c, *d = (312, 532, 52, 52, 31, 3120, 3120, 3120)"
   ]
  },
  {
   "cell_type": "code",
   "execution_count": 15,
   "id": "c797642c",
   "metadata": {},
   "outputs": [
    {
     "data": {
      "text/plain": [
       "(312, 532, 52, [52, 31, 3120, 3120, 3120])"
      ]
     },
     "execution_count": 15,
     "metadata": {},
     "output_type": "execute_result"
    }
   ],
   "source": [
    "a, b, c, d"
   ]
  },
  {
   "cell_type": "code",
   "execution_count": null,
   "id": "a69116d0",
   "metadata": {},
   "outputs": [],
   "source": []
  }
 ],
 "metadata": {
  "kernelspec": {
   "display_name": "Python 3",
   "language": "python",
   "name": "python3"
  },
  "language_info": {
   "codemirror_mode": {
    "name": "ipython",
    "version": 3
   },
   "file_extension": ".py",
   "mimetype": "text/x-python",
   "name": "python",
   "nbconvert_exporter": "python",
   "pygments_lexer": "ipython3",
   "version": "3.13.3"
  }
 },
 "nbformat": 4,
 "nbformat_minor": 5
}
