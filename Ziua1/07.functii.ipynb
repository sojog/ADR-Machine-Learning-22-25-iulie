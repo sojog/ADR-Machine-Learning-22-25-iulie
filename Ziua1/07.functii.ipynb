{
 "cells": [
  {
   "cell_type": "code",
   "execution_count": 2,
   "id": "6d3567e2",
   "metadata": {},
   "outputs": [],
   "source": [
    "def adunare(x, y):\n",
    "    return x + y"
   ]
  },
  {
   "cell_type": "code",
   "execution_count": 3,
   "id": "9b539733",
   "metadata": {},
   "outputs": [
    {
     "data": {
      "text/plain": [
       "12"
      ]
     },
     "execution_count": 3,
     "metadata": {},
     "output_type": "execute_result"
    }
   ],
   "source": [
    "adunare(10, 2)"
   ]
  },
  {
   "cell_type": "code",
   "execution_count": 4,
   "id": "1d687f5c",
   "metadata": {},
   "outputs": [],
   "source": [
    "def adunare_fara_return(x, y):\n",
    "    x + y"
   ]
  },
  {
   "cell_type": "code",
   "execution_count": 7,
   "id": "6eb1b321",
   "metadata": {},
   "outputs": [
    {
     "name": "stdout",
     "output_type": "stream",
     "text": [
      "None\n"
     ]
    }
   ],
   "source": [
    "x = adunare_fara_return(10, 2)\n",
    "print(x)"
   ]
  },
  {
   "cell_type": "code",
   "execution_count": 10,
   "id": "7c17514d",
   "metadata": {},
   "outputs": [
    {
     "name": "stdout",
     "output_type": "stream",
     "text": [
      "None\n"
     ]
    }
   ],
   "source": [
    "variabila = None\n",
    "print(variabila)"
   ]
  },
  {
   "cell_type": "code",
   "execution_count": 8,
   "id": "1f486b72",
   "metadata": {},
   "outputs": [],
   "source": [
    "def functie_cu_parametri(x, y, *args):\n",
    "    print(\"x=\", x, \"y=\", y, \"args=\", args, type(args))"
   ]
  },
  {
   "cell_type": "code",
   "execution_count": 2,
   "id": "7eb08e41",
   "metadata": {},
   "outputs": [
    {
     "name": "stdout",
     "output_type": "stream",
     "text": [
      "x= 10 y= 20\n"
     ]
    }
   ],
   "source": [
    "functie_cu_parametri(10, 20)"
   ]
  },
  {
   "cell_type": "code",
   "execution_count": 9,
   "id": "c152915f",
   "metadata": {},
   "outputs": [
    {
     "name": "stdout",
     "output_type": "stream",
     "text": [
      "x= 10 y= 30 args= (30,) <class 'tuple'>\n"
     ]
    }
   ],
   "source": [
    "functie_cu_parametri(10, 30, 30)"
   ]
  },
  {
   "cell_type": "code",
   "execution_count": 10,
   "id": "3cc45b54",
   "metadata": {},
   "outputs": [
    {
     "name": "stdout",
     "output_type": "stream",
     "text": [
      "x= 10 y= 30 args= () <class 'tuple'>\n"
     ]
    }
   ],
   "source": [
    "functie_cu_parametri(10, 30)"
   ]
  },
  {
   "cell_type": "code",
   "execution_count": null,
   "id": "7724bacc",
   "metadata": {},
   "outputs": [],
   "source": []
  }
 ],
 "metadata": {
  "kernelspec": {
   "display_name": "Python 3",
   "language": "python",
   "name": "python3"
  },
  "language_info": {
   "codemirror_mode": {
    "name": "ipython",
    "version": 3
   },
   "file_extension": ".py",
   "mimetype": "text/x-python",
   "name": "python",
   "nbconvert_exporter": "python",
   "pygments_lexer": "ipython3",
   "version": "3.13.3"
  }
 },
 "nbformat": 4,
 "nbformat_minor": 5
}
