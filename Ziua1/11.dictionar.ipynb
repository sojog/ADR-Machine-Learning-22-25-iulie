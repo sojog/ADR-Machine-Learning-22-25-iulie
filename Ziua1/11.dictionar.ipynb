{
 "cells": [
  {
   "cell_type": "code",
   "execution_count": 3,
   "id": "01a1bdd9",
   "metadata": {},
   "outputs": [
    {
     "data": {
      "text/plain": [
       "(dict, {})"
      ]
     },
     "execution_count": 3,
     "metadata": {},
     "output_type": "execute_result"
    }
   ],
   "source": [
    "# Varianta preferata\n",
    "d = {}\n",
    "type(d), d"
   ]
  },
  {
   "cell_type": "code",
   "execution_count": 2,
   "id": "a52fa08e",
   "metadata": {},
   "outputs": [
    {
     "data": {
      "text/plain": [
       "(dict, {})"
      ]
     },
     "execution_count": 2,
     "metadata": {},
     "output_type": "execute_result"
    }
   ],
   "source": [
    "d = dict()\n",
    "type(d), d"
   ]
  },
  {
   "cell_type": "code",
   "execution_count": 5,
   "id": "bef37541",
   "metadata": {},
   "outputs": [
    {
     "data": {
      "text/plain": [
       "(set, {10})"
      ]
     },
     "execution_count": 5,
     "metadata": {},
     "output_type": "execute_result"
    }
   ],
   "source": [
    "s = {10}\n",
    "type(s), s"
   ]
  },
  {
   "cell_type": "code",
   "execution_count": 7,
   "id": "c3a318ed",
   "metadata": {},
   "outputs": [
    {
     "data": {
      "text/plain": [
       "1"
      ]
     },
     "execution_count": 7,
     "metadata": {},
     "output_type": "execute_result"
    }
   ],
   "source": [
    "len(s)"
   ]
  },
  {
   "cell_type": "code",
   "execution_count": null,
   "id": "9ac4f670",
   "metadata": {},
   "outputs": [
    {
     "data": {
      "text/plain": [
       "(set, {10, 24, 32})"
      ]
     },
     "execution_count": 8,
     "metadata": {},
     "output_type": "execute_result"
    }
   ],
   "source": [
    "s = {10, 10, 10, 24, 32, 32}\n",
    "type(s), s"
   ]
  },
  {
   "cell_type": "code",
   "execution_count": 10,
   "id": "8347e5cc",
   "metadata": {},
   "outputs": [
    {
     "data": {
      "text/plain": [
       "{'cheie': 'valoare'}"
      ]
     },
     "execution_count": 10,
     "metadata": {},
     "output_type": "execute_result"
    }
   ],
   "source": [
    "d = {\n",
    "    \"cheie\":\"valoare\"\n",
    "}\n",
    "d"
   ]
  },
  {
   "cell_type": "code",
   "execution_count": 11,
   "id": "0051b47f",
   "metadata": {},
   "outputs": [
    {
     "data": {
      "text/plain": [
       "1"
      ]
     },
     "execution_count": 11,
     "metadata": {},
     "output_type": "execute_result"
    }
   ],
   "source": [
    "len(d)"
   ]
  },
  {
   "cell_type": "code",
   "execution_count": 13,
   "id": "532f8467",
   "metadata": {},
   "outputs": [
    {
     "data": {
      "text/plain": [
       "({'albastru': 'cer', 'rosu': 'sange', 'verde': 'iarba'}, 3)"
      ]
     },
     "execution_count": 13,
     "metadata": {},
     "output_type": "execute_result"
    }
   ],
   "source": [
    "d = {\n",
    "    \"albastru\":\"cer\", \"rosu\":\"sange\", \"verde\":\"iarba\"\n",
    "}\n",
    "d, len(d)"
   ]
  },
  {
   "cell_type": "code",
   "execution_count": 15,
   "id": "316657ac",
   "metadata": {},
   "outputs": [
    {
     "name": "stdout",
     "output_type": "stream",
     "text": [
      "chei: albastru valori: cer\n",
      "chei: rosu valori: sange\n",
      "chei: verde valori: iarba\n"
     ]
    }
   ],
   "source": [
    "for i in d:\n",
    "    print(\"chei:\", i, \"valori:\", d[i])"
   ]
  },
  {
   "cell_type": "code",
   "execution_count": 16,
   "id": "6b695f68",
   "metadata": {},
   "outputs": [
    {
     "data": {
      "text/plain": [
       "dict_items([('albastru', 'cer'), ('rosu', 'sange'), ('verde', 'iarba')])"
      ]
     },
     "execution_count": 16,
     "metadata": {},
     "output_type": "execute_result"
    }
   ],
   "source": [
    "d.items()"
   ]
  },
  {
   "cell_type": "code",
   "execution_count": 17,
   "id": "c022cbec",
   "metadata": {},
   "outputs": [
    {
     "data": {
      "text/plain": [
       "dict_keys(['albastru', 'rosu', 'verde'])"
      ]
     },
     "execution_count": 17,
     "metadata": {},
     "output_type": "execute_result"
    }
   ],
   "source": [
    "d.keys()"
   ]
  },
  {
   "cell_type": "code",
   "execution_count": 18,
   "id": "90596cb6",
   "metadata": {},
   "outputs": [
    {
     "data": {
      "text/plain": [
       "dict_values(['cer', 'sange', 'iarba'])"
      ]
     },
     "execution_count": 18,
     "metadata": {},
     "output_type": "execute_result"
    }
   ],
   "source": [
    "d.values()"
   ]
  },
  {
   "cell_type": "code",
   "execution_count": 19,
   "id": "b5ca6ed1",
   "metadata": {},
   "outputs": [],
   "source": [
    "d[\"negru\"] = \"cafeaua\""
   ]
  },
  {
   "cell_type": "code",
   "execution_count": 20,
   "id": "34a71d69",
   "metadata": {},
   "outputs": [
    {
     "data": {
      "text/plain": [
       "{'albastru': 'cer', 'rosu': 'sange', 'verde': 'iarba', 'negru': 'cafeaua'}"
      ]
     },
     "execution_count": 20,
     "metadata": {},
     "output_type": "execute_result"
    }
   ],
   "source": [
    "d"
   ]
  },
  {
   "cell_type": "code",
   "execution_count": 21,
   "id": "ea1f6c0e",
   "metadata": {},
   "outputs": [
    {
     "data": {
      "text/plain": [
       "{'albastru': 'cer',\n",
       " 'rosu': 'sange',\n",
       " 'verde': 'iarba',\n",
       " 'negru': 'cafeaua',\n",
       " 0: 100}"
      ]
     },
     "execution_count": 21,
     "metadata": {},
     "output_type": "execute_result"
    }
   ],
   "source": [
    "d[0] = 100\n",
    "d"
   ]
  },
  {
   "cell_type": "code",
   "execution_count": 23,
   "id": "b59c4a90",
   "metadata": {},
   "outputs": [
    {
     "data": {
      "text/plain": [
       "100"
      ]
     },
     "execution_count": 23,
     "metadata": {},
     "output_type": "execute_result"
    }
   ],
   "source": [
    "d[0] "
   ]
  },
  {
   "cell_type": "code",
   "execution_count": 24,
   "id": "102564fb",
   "metadata": {},
   "outputs": [],
   "source": [
    "d[(100, 100)] = \"salutare\""
   ]
  },
  {
   "cell_type": "code",
   "execution_count": 25,
   "id": "6c5f0e8f",
   "metadata": {},
   "outputs": [
    {
     "data": {
      "text/plain": [
       "{'albastru': 'cer',\n",
       " 'rosu': 'sange',\n",
       " 'verde': 'iarba',\n",
       " 'negru': 'cafeaua',\n",
       " 0: 100,\n",
       " (100, 100): 'salutare'}"
      ]
     },
     "execution_count": 25,
     "metadata": {},
     "output_type": "execute_result"
    }
   ],
   "source": [
    "d"
   ]
  },
  {
   "cell_type": "code",
   "execution_count": null,
   "id": "67f3e084",
   "metadata": {},
   "outputs": [
    {
     "ename": "TypeError",
     "evalue": "unhashable type: 'list'",
     "output_type": "error",
     "traceback": [
      "\u001b[31m---------------------------------------------------------------------------\u001b[39m",
      "\u001b[31mTypeError\u001b[39m                                 Traceback (most recent call last)",
      "\u001b[36mCell\u001b[39m\u001b[36m \u001b[39m\u001b[32mIn[26]\u001b[39m\u001b[32m, line 1\u001b[39m\n\u001b[32m----> \u001b[39m\u001b[32m1\u001b[39m \u001b[43md\u001b[49m\u001b[43m[\u001b[49m\u001b[43m[\u001b[49m\u001b[32;43m45\u001b[39;49m\u001b[43m,\u001b[49m\u001b[43m \u001b[49m\u001b[32;43m99\u001b[39;49m\u001b[43m]\u001b[49m\u001b[43m]\u001b[49m = \u001b[33m\"\u001b[39m\u001b[33mcoordonate\u001b[39m\u001b[33m\"\u001b[39m\n",
      "\u001b[31mTypeError\u001b[39m: unhashable type: 'list'"
     ]
    }
   ],
   "source": [
    "d[[45, 99]] = \"coordonate\""
   ]
  },
  {
   "cell_type": "code",
   "execution_count": 27,
   "id": "de48609a",
   "metadata": {},
   "outputs": [],
   "source": [
    "d.clear()"
   ]
  },
  {
   "cell_type": "code",
   "execution_count": 28,
   "id": "5da11f5b",
   "metadata": {},
   "outputs": [
    {
     "data": {
      "text/plain": [
       "{}"
      ]
     },
     "execution_count": 28,
     "metadata": {},
     "output_type": "execute_result"
    }
   ],
   "source": [
    "d"
   ]
  },
  {
   "cell_type": "code",
   "execution_count": 33,
   "id": "e381b655",
   "metadata": {},
   "outputs": [],
   "source": [
    "def functie_cu_parametri_denumiti(a, b, *args, **kargs):\n",
    "    print(\"a=\", a)\n",
    "    print(\"b=\", b)\n",
    "    print(\"args= \", args, type(args))\n",
    "    print(\"kargs=\", kargs, type(kargs))"
   ]
  },
  {
   "cell_type": "code",
   "execution_count": 34,
   "id": "fe45c53f",
   "metadata": {},
   "outputs": [
    {
     "name": "stdout",
     "output_type": "stream",
     "text": [
      "a= 10\n",
      "b= 20\n",
      "args=  (29, 30, 30) <class 'tuple'>\n",
      "kargs= {'x': 200, 'y': 300} <class 'dict'>\n"
     ]
    }
   ],
   "source": [
    "functie_cu_parametri_denumiti(10, 20, 29, 30, 30, x=200, y=300)"
   ]
  },
  {
   "cell_type": "code",
   "execution_count": 38,
   "id": "a6909d88",
   "metadata": {},
   "outputs": [
    {
     "name": "stdout",
     "output_type": "stream",
     "text": [
      "10\n",
      "10 20\n",
      "10 20 30\n"
     ]
    }
   ],
   "source": [
    "\n",
    "print(10)\n",
    "print(10, 20)\n",
    "print(10, 20, 30)\n"
   ]
  },
  {
   "cell_type": "code",
   "execution_count": 39,
   "id": "50437d7f",
   "metadata": {},
   "outputs": [
    {
     "name": "stdout",
     "output_type": "stream",
     "text": [
      "10---20---30\n"
     ]
    }
   ],
   "source": [
    "print(10, 20, 30, sep=\"---\")"
   ]
  },
  {
   "cell_type": "code",
   "execution_count": 40,
   "id": "bdba69d0",
   "metadata": {},
   "outputs": [
    {
     "name": "stdout",
     "output_type": "stream",
     "text": [
      "10^^^20^^^30\n"
     ]
    }
   ],
   "source": [
    "print(10, 20, 30, sep=\"^^^\")"
   ]
  },
  {
   "cell_type": "code",
   "execution_count": 41,
   "id": "4328e892",
   "metadata": {},
   "outputs": [
    {
     "name": "stdout",
     "output_type": "stream",
     "text": [
      "10^^^20^^^30+++"
     ]
    }
   ],
   "source": [
    "print(10, 20, 30, sep=\"^^^\", end=\"+++\")"
   ]
  },
  {
   "cell_type": "code",
   "execution_count": 43,
   "id": "f022ed1d",
   "metadata": {},
   "outputs": [
    {
     "name": "stdout",
     "output_type": "stream",
     "text": [
      "10^^^20^^^30+++\n",
      "10^^^20^^^30+++"
     ]
    }
   ],
   "source": [
    "print(10, 20, 30, sep=\"^^^\", end=\"+++\\n\")\n",
    "print(10, 20, 30, sep=\"^^^\", end=\"+++\")"
   ]
  },
  {
   "cell_type": "code",
   "execution_count": 46,
   "id": "96b31f1c",
   "metadata": {},
   "outputs": [],
   "source": [
    "def putere(x, p=2):\n",
    "    return x ** p "
   ]
  },
  {
   "cell_type": "code",
   "execution_count": 47,
   "id": "0381d56c",
   "metadata": {},
   "outputs": [
    {
     "data": {
      "text/plain": [
       "100"
      ]
     },
     "execution_count": 47,
     "metadata": {},
     "output_type": "execute_result"
    }
   ],
   "source": [
    "putere(10, 2)"
   ]
  },
  {
   "cell_type": "code",
   "execution_count": 49,
   "id": "72fce7c9",
   "metadata": {},
   "outputs": [
    {
     "data": {
      "text/plain": [
       "81"
      ]
     },
     "execution_count": 49,
     "metadata": {},
     "output_type": "execute_result"
    }
   ],
   "source": [
    "putere(9)"
   ]
  },
  {
   "cell_type": "code",
   "execution_count": 50,
   "id": "4475a41a",
   "metadata": {},
   "outputs": [
    {
     "data": {
      "text/plain": [
       "729"
      ]
     },
     "execution_count": 50,
     "metadata": {},
     "output_type": "execute_result"
    }
   ],
   "source": [
    "putere(9,3)"
   ]
  },
  {
   "cell_type": "code",
   "execution_count": null,
   "id": "716d645f",
   "metadata": {},
   "outputs": [],
   "source": []
  }
 ],
 "metadata": {
  "kernelspec": {
   "display_name": "Python 3",
   "language": "python",
   "name": "python3"
  },
  "language_info": {
   "codemirror_mode": {
    "name": "ipython",
    "version": 3
   },
   "file_extension": ".py",
   "mimetype": "text/x-python",
   "name": "python",
   "nbconvert_exporter": "python",
   "pygments_lexer": "ipython3",
   "version": "3.13.3"
  }
 },
 "nbformat": 4,
 "nbformat_minor": 5
}
