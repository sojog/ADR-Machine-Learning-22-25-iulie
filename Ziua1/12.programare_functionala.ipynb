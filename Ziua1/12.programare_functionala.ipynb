{
 "cells": [
  {
   "cell_type": "code",
   "execution_count": 1,
   "id": "0adec17e",
   "metadata": {},
   "outputs": [
    {
     "name": "stdout",
     "output_type": "stream",
     "text": [
      "Hello\n"
     ]
    }
   ],
   "source": [
    "print(\"Hello\")"
   ]
  },
  {
   "cell_type": "code",
   "execution_count": 2,
   "id": "fffe3c59",
   "metadata": {},
   "outputs": [
    {
     "data": {
      "text/plain": [
       "<function print(*args, sep=' ', end='\\n', file=None, flush=False)>"
      ]
     },
     "execution_count": 2,
     "metadata": {},
     "output_type": "execute_result"
    }
   ],
   "source": [
    "print"
   ]
  },
  {
   "cell_type": "code",
   "execution_count": 3,
   "id": "4ebc8c3c",
   "metadata": {},
   "outputs": [],
   "source": [
    "x = print"
   ]
  },
  {
   "cell_type": "code",
   "execution_count": 4,
   "id": "b54a8b41",
   "metadata": {},
   "outputs": [
    {
     "data": {
      "text/plain": [
       "<function print(*args, sep=' ', end='\\n', file=None, flush=False)>"
      ]
     },
     "execution_count": 4,
     "metadata": {},
     "output_type": "execute_result"
    }
   ],
   "source": [
    "x"
   ]
  },
  {
   "cell_type": "code",
   "execution_count": 5,
   "id": "2bc45ca3",
   "metadata": {},
   "outputs": [
    {
     "name": "stdout",
     "output_type": "stream",
     "text": [
      "hello\n"
     ]
    }
   ],
   "source": [
    "x(\"hello\")"
   ]
  },
  {
   "cell_type": "code",
   "execution_count": 8,
   "id": "45ed5d2a",
   "metadata": {},
   "outputs": [],
   "source": [
    "def adunare(x, y):\n",
    "    return x + y\n",
    "\n",
    "def scadere(x, y):\n",
    "    return x - y\n",
    "\n",
    "def inmultire(x, y):\n",
    "    return x * y\n",
    " "
   ]
  },
  {
   "cell_type": "code",
   "execution_count": 9,
   "id": "8207b158",
   "metadata": {},
   "outputs": [],
   "source": [
    "def executa_operatia(func, x, y):\n",
    "    return func(x, y)"
   ]
  },
  {
   "cell_type": "code",
   "execution_count": 10,
   "id": "52cc3aac",
   "metadata": {},
   "outputs": [
    {
     "data": {
      "text/plain": [
       "30"
      ]
     },
     "execution_count": 10,
     "metadata": {},
     "output_type": "execute_result"
    }
   ],
   "source": [
    "executa_operatia(adunare, 10, 20)"
   ]
  },
  {
   "cell_type": "code",
   "execution_count": 11,
   "id": "0b088c96",
   "metadata": {},
   "outputs": [
    {
     "data": {
      "text/plain": [
       "-10"
      ]
     },
     "execution_count": 11,
     "metadata": {},
     "output_type": "execute_result"
    }
   ],
   "source": [
    "executa_operatia(scadere, 10, 20)"
   ]
  },
  {
   "cell_type": "code",
   "execution_count": 12,
   "id": "cf79fb4d",
   "metadata": {},
   "outputs": [
    {
     "name": "stdout",
     "output_type": "stream",
     "text": [
      "30\n",
      "-10\n",
      "200\n"
     ]
    }
   ],
   "source": [
    "for i in (adunare, scadere, inmultire):\n",
    "    print(executa_operatia(i, 10, 20))"
   ]
  },
  {
   "cell_type": "code",
   "execution_count": 13,
   "id": "b9e620d6",
   "metadata": {},
   "outputs": [
    {
     "name": "stdout",
     "output_type": "stream",
     "text": [
      "15\n",
      "11\n",
      "26\n"
     ]
    }
   ],
   "source": [
    "for i in (adunare, scadere, inmultire):\n",
    "    print(executa_operatia(i, 13, 2))"
   ]
  },
  {
   "cell_type": "code",
   "execution_count": 14,
   "id": "afc17a14",
   "metadata": {},
   "outputs": [
    {
     "data": {
      "text/plain": [
       "['1', '0', '0']"
      ]
     },
     "execution_count": 14,
     "metadata": {},
     "output_type": "execute_result"
    }
   ],
   "source": [
    "list(\"100\")"
   ]
  },
  {
   "cell_type": "code",
   "execution_count": 16,
   "id": "000caf4d",
   "metadata": {},
   "outputs": [
    {
     "name": "stdout",
     "output_type": "stream",
     "text": [
      "<class 'list'>\n"
     ]
    }
   ],
   "source": [
    "print(list)"
   ]
  },
  {
   "cell_type": "markdown",
   "id": "0b1d2664",
   "metadata": {},
   "source": [
    "# map  \n",
    "# filter \n",
    "# reduce,"
   ]
  },
  {
   "cell_type": "code",
   "execution_count": 17,
   "id": "42d2f388",
   "metadata": {},
   "outputs": [],
   "source": [
    "def aduna_doi(x):\n",
    "    return x + 2"
   ]
  },
  {
   "cell_type": "code",
   "execution_count": 18,
   "id": "3208ecb5",
   "metadata": {},
   "outputs": [
    {
     "data": {
      "text/plain": [
       "12"
      ]
     },
     "execution_count": 18,
     "metadata": {},
     "output_type": "execute_result"
    }
   ],
   "source": [
    "aduna_doi(10)"
   ]
  },
  {
   "cell_type": "code",
   "execution_count": 19,
   "id": "412dc9dc",
   "metadata": {},
   "outputs": [],
   "source": [
    "colectie = [10, 20, 30, 40]"
   ]
  },
  {
   "cell_type": "code",
   "execution_count": 20,
   "id": "3df2cd90",
   "metadata": {},
   "outputs": [
    {
     "data": {
      "text/plain": [
       "<map at 0x1192c53f0>"
      ]
     },
     "execution_count": 20,
     "metadata": {},
     "output_type": "execute_result"
    }
   ],
   "source": [
    "map(aduna_doi, colectie)"
   ]
  },
  {
   "cell_type": "code",
   "execution_count": 21,
   "id": "24d1bd32",
   "metadata": {},
   "outputs": [
    {
     "data": {
      "text/plain": [
       "[12, 22, 32, 42]"
      ]
     },
     "execution_count": 21,
     "metadata": {},
     "output_type": "execute_result"
    }
   ],
   "source": [
    "list(map(aduna_doi, colectie))"
   ]
  },
  {
   "cell_type": "code",
   "execution_count": 22,
   "id": "24fe8aba",
   "metadata": {},
   "outputs": [
    {
     "data": {
      "text/plain": [
       "[10, 20, 30, 40]"
      ]
     },
     "execution_count": 22,
     "metadata": {},
     "output_type": "execute_result"
    }
   ],
   "source": [
    "colectie"
   ]
  },
  {
   "cell_type": "code",
   "execution_count": 24,
   "id": "e9bf6922",
   "metadata": {},
   "outputs": [],
   "source": [
    "def mai_mare_ca_25(x):\n",
    "    return x > 25"
   ]
  },
  {
   "cell_type": "code",
   "execution_count": 25,
   "id": "5867aef9",
   "metadata": {},
   "outputs": [
    {
     "data": {
      "text/plain": [
       "<filter at 0x1192f19c0>"
      ]
     },
     "execution_count": 25,
     "metadata": {},
     "output_type": "execute_result"
    }
   ],
   "source": [
    "filter( mai_mare_ca_25, colectie)"
   ]
  },
  {
   "cell_type": "code",
   "execution_count": 26,
   "id": "e59d7d6c",
   "metadata": {},
   "outputs": [
    {
     "data": {
      "text/plain": [
       "[30, 40]"
      ]
     },
     "execution_count": 26,
     "metadata": {},
     "output_type": "execute_result"
    }
   ],
   "source": [
    "list(filter( mai_mare_ca_25, colectie))"
   ]
  },
  {
   "cell_type": "code",
   "execution_count": 27,
   "id": "f89d1f99",
   "metadata": {},
   "outputs": [],
   "source": [
    "from functools import reduce"
   ]
  },
  {
   "cell_type": "code",
   "execution_count": 28,
   "id": "73d6351b",
   "metadata": {},
   "outputs": [],
   "source": [
    "colectie = [10, 20, 30, 40]"
   ]
  },
  {
   "cell_type": "markdown",
   "id": "7a8057c8",
   "metadata": {},
   "source": [
    "[10, 20, 30, 40]\n",
    "\n",
    "10 + 20 = 30\n",
    "[30, 30, 40]\n",
    "\n",
    "30 + 30 = 60\n",
    "[60, 40] \n",
    "60 + 40 = 100\n"
   ]
  },
  {
   "cell_type": "code",
   "execution_count": null,
   "id": "af282b8e",
   "metadata": {},
   "outputs": [],
   "source": [
    "def adunare(x, y):\n",
    "    return x + y"
   ]
  },
  {
   "cell_type": "code",
   "execution_count": 29,
   "id": "fdbd5eb7",
   "metadata": {},
   "outputs": [
    {
     "data": {
      "text/plain": [
       "100"
      ]
     },
     "execution_count": 29,
     "metadata": {},
     "output_type": "execute_result"
    }
   ],
   "source": [
    "reduce( adunare, colectie)"
   ]
  },
  {
   "cell_type": "code",
   "execution_count": 31,
   "id": "87e8e171",
   "metadata": {},
   "outputs": [],
   "source": [
    "def adunare(x, y): \n",
    "    return x if x > y else y      # x > y ? x : y"
   ]
  },
  {
   "cell_type": "code",
   "execution_count": 32,
   "id": "447e066b",
   "metadata": {},
   "outputs": [
    {
     "data": {
      "text/plain": [
       "40"
      ]
     },
     "execution_count": 32,
     "metadata": {},
     "output_type": "execute_result"
    }
   ],
   "source": [
    "reduce( adunare, colectie)"
   ]
  }
 ],
 "metadata": {
  "kernelspec": {
   "display_name": "Python 3",
   "language": "python",
   "name": "python3"
  },
  "language_info": {
   "codemirror_mode": {
    "name": "ipython",
    "version": 3
   },
   "file_extension": ".py",
   "mimetype": "text/x-python",
   "name": "python",
   "nbconvert_exporter": "python",
   "pygments_lexer": "ipython3",
   "version": "3.13.3"
  }
 },
 "nbformat": 4,
 "nbformat_minor": 5
}
