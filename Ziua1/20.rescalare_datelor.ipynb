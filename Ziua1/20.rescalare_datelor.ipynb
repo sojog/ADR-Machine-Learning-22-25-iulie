{
 "cells": [
  {
   "cell_type": "code",
   "execution_count": 4,
   "id": "f2249098",
   "metadata": {},
   "outputs": [],
   "source": [
    "from sklearn.preprocessing import StandardScaler, MinMaxScaler\n",
    "import numpy as np"
   ]
  },
  {
   "cell_type": "code",
   "execution_count": 8,
   "id": "2ef7a0fa",
   "metadata": {},
   "outputs": [],
   "source": [
    "date = np.array([65, 75, 80, 95, 120, 205, 400])\n"
   ]
  },
  {
   "cell_type": "code",
   "execution_count": 7,
   "id": "21b2bd16",
   "metadata": {},
   "outputs": [
    {
     "data": {
      "text/plain": [
       "array([ 65,  75,  80,  95, 120, 205, 400])"
      ]
     },
     "execution_count": 7,
     "metadata": {},
     "output_type": "execute_result"
    }
   ],
   "source": [
    "date"
   ]
  },
  {
   "cell_type": "code",
   "execution_count": 6,
   "id": "ce433df4",
   "metadata": {},
   "outputs": [
    {
     "data": {
      "text/plain": [
       "array([[ 65],\n",
       "       [ 75],\n",
       "       [ 80],\n",
       "       [ 95],\n",
       "       [120],\n",
       "       [205],\n",
       "       [400]])"
      ]
     },
     "execution_count": 6,
     "metadata": {},
     "output_type": "execute_result"
    }
   ],
   "source": [
    "date.reshape((-1, 1))"
   ]
  },
  {
   "cell_type": "code",
   "execution_count": 9,
   "id": "fdfb9251",
   "metadata": {},
   "outputs": [
    {
     "data": {
      "text/plain": [
       "array([[0.        ],\n",
       "       [0.02985075],\n",
       "       [0.04477612],\n",
       "       [0.08955224],\n",
       "       [0.1641791 ],\n",
       "       [0.41791045],\n",
       "       [1.        ]])"
      ]
     },
     "execution_count": 9,
     "metadata": {},
     "output_type": "execute_result"
    }
   ],
   "source": [
    "scaler = MinMaxScaler()\n",
    "scaler.fit_transform(date.reshape((-1, 1)))"
   ]
  },
  {
   "cell_type": "code",
   "execution_count": 10,
   "id": "488825d3",
   "metadata": {},
   "outputs": [
    {
     "data": {
      "text/plain": [
       "array([[-0.74883163],\n",
       "       [-0.65922785],\n",
       "       [-0.61442595],\n",
       "       [-0.48002028],\n",
       "       [-0.25601081],\n",
       "       [ 0.50562136],\n",
       "       [ 2.25289516]])"
      ]
     },
     "execution_count": 10,
     "metadata": {},
     "output_type": "execute_result"
    }
   ],
   "source": [
    "scaler = StandardScaler()\n",
    "scaler.fit_transform(date.reshape((-1, 1)))"
   ]
  },
  {
   "cell_type": "code",
   "execution_count": null,
   "id": "408cce1c",
   "metadata": {},
   "outputs": [],
   "source": []
  }
 ],
 "metadata": {
  "kernelspec": {
   "display_name": "Python 3",
   "language": "python",
   "name": "python3"
  },
  "language_info": {
   "codemirror_mode": {
    "name": "ipython",
    "version": 3
   },
   "file_extension": ".py",
   "mimetype": "text/x-python",
   "name": "python",
   "nbconvert_exporter": "python",
   "pygments_lexer": "ipython3",
   "version": "3.13.3"
  }
 },
 "nbformat": 4,
 "nbformat_minor": 5
}
