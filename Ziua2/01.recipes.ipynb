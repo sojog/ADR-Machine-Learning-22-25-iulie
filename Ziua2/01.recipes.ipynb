{
 "cells": [
  {
   "cell_type": "code",
   "execution_count": 1,
   "id": "408613fb",
   "metadata": {},
   "outputs": [],
   "source": [
    "import pandas as pd\n",
    "import numpy as np\n",
    "import matplotlib.pyplot as plt"
   ]
  },
  {
   "cell_type": "code",
   "execution_count": 5,
   "id": "c3845ca4",
   "metadata": {},
   "outputs": [
    {
     "data": {
      "text/html": [
       "<div>\n",
       "<style scoped>\n",
       "    .dataframe tbody tr th:only-of-type {\n",
       "        vertical-align: middle;\n",
       "    }\n",
       "\n",
       "    .dataframe tbody tr th {\n",
       "        vertical-align: top;\n",
       "    }\n",
       "\n",
       "    .dataframe thead th {\n",
       "        text-align: right;\n",
       "    }\n",
       "</style>\n",
       "<table border=\"1\" class=\"dataframe\">\n",
       "  <thead>\n",
       "    <tr style=\"text-align: right;\">\n",
       "      <th></th>\n",
       "      <th>name</th>\n",
       "      <th>prepTimeMinutes</th>\n",
       "      <th>cookTimeMinutes</th>\n",
       "      <th>servings</th>\n",
       "      <th>caloriesPerServing</th>\n",
       "      <th>reviewCount</th>\n",
       "    </tr>\n",
       "  </thead>\n",
       "  <tbody>\n",
       "    <tr>\n",
       "      <th>0</th>\n",
       "      <td>Classic Margherita Pizza</td>\n",
       "      <td>20</td>\n",
       "      <td>15</td>\n",
       "      <td>4</td>\n",
       "      <td>300</td>\n",
       "      <td>98</td>\n",
       "    </tr>\n",
       "    <tr>\n",
       "      <th>1</th>\n",
       "      <td>Vegetarian Stir-Fry</td>\n",
       "      <td>15</td>\n",
       "      <td>20</td>\n",
       "      <td>3</td>\n",
       "      <td>250</td>\n",
       "      <td>26</td>\n",
       "    </tr>\n",
       "    <tr>\n",
       "      <th>2</th>\n",
       "      <td>Chocolate Chip Cookies</td>\n",
       "      <td>15</td>\n",
       "      <td>10</td>\n",
       "      <td>24</td>\n",
       "      <td>150</td>\n",
       "      <td>13</td>\n",
       "    </tr>\n",
       "    <tr>\n",
       "      <th>3</th>\n",
       "      <td>Chicken Alfredo Pasta</td>\n",
       "      <td>15</td>\n",
       "      <td>20</td>\n",
       "      <td>4</td>\n",
       "      <td>500</td>\n",
       "      <td>82</td>\n",
       "    </tr>\n",
       "    <tr>\n",
       "      <th>4</th>\n",
       "      <td>Mango Salsa Chicken</td>\n",
       "      <td>15</td>\n",
       "      <td>25</td>\n",
       "      <td>3</td>\n",
       "      <td>380</td>\n",
       "      <td>63</td>\n",
       "    </tr>\n",
       "  </tbody>\n",
       "</table>\n",
       "</div>"
      ],
      "text/plain": [
       "                       name  prepTimeMinutes  cookTimeMinutes  servings  \\\n",
       "0  Classic Margherita Pizza               20               15         4   \n",
       "1       Vegetarian Stir-Fry               15               20         3   \n",
       "2    Chocolate Chip Cookies               15               10        24   \n",
       "3     Chicken Alfredo Pasta               15               20         4   \n",
       "4       Mango Salsa Chicken               15               25         3   \n",
       "\n",
       "   caloriesPerServing  reviewCount  \n",
       "0                 300           98  \n",
       "1                 250           26  \n",
       "2                 150           13  \n",
       "3                 500           82  \n",
       "4                 380           63  "
      ]
     },
     "execution_count": 5,
     "metadata": {},
     "output_type": "execute_result"
    }
   ],
   "source": [
    "df = pd.read_csv(\"recipes.csv\", index_col=0)\n",
    "df.head()"
   ]
  },
  {
   "cell_type": "code",
   "execution_count": 8,
   "id": "6ec4c185",
   "metadata": {},
   "outputs": [
    {
     "data": {
      "text/plain": [
       "0    Classic Margherita Pizza\n",
       "1         Vegetarian Stir-Fry\n",
       "2      Chocolate Chip Cookies\n",
       "Name: name, dtype: object"
      ]
     },
     "execution_count": 8,
     "metadata": {},
     "output_type": "execute_result"
    }
   ],
   "source": [
    "df[\"name\"][:3]"
   ]
  },
  {
   "cell_type": "code",
   "execution_count": 11,
   "id": "d817f764",
   "metadata": {},
   "outputs": [
    {
     "data": {
      "text/html": [
       "<div>\n",
       "<style scoped>\n",
       "    .dataframe tbody tr th:only-of-type {\n",
       "        vertical-align: middle;\n",
       "    }\n",
       "\n",
       "    .dataframe tbody tr th {\n",
       "        vertical-align: top;\n",
       "    }\n",
       "\n",
       "    .dataframe thead th {\n",
       "        text-align: right;\n",
       "    }\n",
       "</style>\n",
       "<table border=\"1\" class=\"dataframe\">\n",
       "  <thead>\n",
       "    <tr style=\"text-align: right;\">\n",
       "      <th></th>\n",
       "      <th>name</th>\n",
       "      <th>cookTimeMinutes</th>\n",
       "    </tr>\n",
       "  </thead>\n",
       "  <tbody>\n",
       "    <tr>\n",
       "      <th>0</th>\n",
       "      <td>Classic Margherita Pizza</td>\n",
       "      <td>15</td>\n",
       "    </tr>\n",
       "    <tr>\n",
       "      <th>1</th>\n",
       "      <td>Vegetarian Stir-Fry</td>\n",
       "      <td>20</td>\n",
       "    </tr>\n",
       "    <tr>\n",
       "      <th>2</th>\n",
       "      <td>Chocolate Chip Cookies</td>\n",
       "      <td>10</td>\n",
       "    </tr>\n",
       "    <tr>\n",
       "      <th>3</th>\n",
       "      <td>Chicken Alfredo Pasta</td>\n",
       "      <td>20</td>\n",
       "    </tr>\n",
       "    <tr>\n",
       "      <th>4</th>\n",
       "      <td>Mango Salsa Chicken</td>\n",
       "      <td>25</td>\n",
       "    </tr>\n",
       "  </tbody>\n",
       "</table>\n",
       "</div>"
      ],
      "text/plain": [
       "                       name  cookTimeMinutes\n",
       "0  Classic Margherita Pizza               15\n",
       "1       Vegetarian Stir-Fry               20\n",
       "2    Chocolate Chip Cookies               10\n",
       "3     Chicken Alfredo Pasta               20\n",
       "4       Mango Salsa Chicken               25"
      ]
     },
     "execution_count": 11,
     "metadata": {},
     "output_type": "execute_result"
    }
   ],
   "source": [
    "df[[\"name\", \"cookTimeMinutes\"]].head()"
   ]
  },
  {
   "cell_type": "code",
   "execution_count": 12,
   "id": "5541c222",
   "metadata": {},
   "outputs": [],
   "source": [
    "primele_5 = df[[\"name\", \"cookTimeMinutes\"]].head()"
   ]
  },
  {
   "cell_type": "code",
   "execution_count": 15,
   "id": "66e90841",
   "metadata": {},
   "outputs": [
    {
     "data": {
      "image/png": "[encoded data removed]",
      "text/plain": [
       "<Figure size 640x480 with 1 Axes>"
      ]
     },
     "metadata": {},
     "output_type": "display_data"
    }
   ],
   "source": [
    "plt.pie(primele_5[\"cookTimeMinutes\"], labels= primele_5[\"name\"]);"
   ]
  },
  {
   "cell_type": "code",
   "execution_count": 16,
   "id": "cc363dca",
   "metadata": {},
   "outputs": [
    {
     "data": {
      "text/plain": [
       "pandas.core.series.Series"
      ]
     },
     "execution_count": 16,
     "metadata": {},
     "output_type": "execute_result"
    }
   ],
   "source": [
    "type(df[\"name\"])"
   ]
  },
  {
   "cell_type": "code",
   "execution_count": 17,
   "id": "73613dc2",
   "metadata": {},
   "outputs": [
    {
     "data": {
      "text/plain": [
       "array(['Classic Margherita Pizza', 'Vegetarian Stir-Fry',\n",
       "       'Chocolate Chip Cookies', 'Chicken Alfredo Pasta',\n",
       "       'Mango Salsa Chicken', 'Quinoa Salad with Avocado',\n",
       "       'Tomato Basil Bruschetta', 'Beef and Broccoli Stir-Fry',\n",
       "       'Caprese Salad', 'Shrimp Scampi Pasta', 'Chicken Biryani',\n",
       "       'Chicken Karahi', 'Aloo Keema', 'Chapli Kebabs',\n",
       "       'Saag (Spinach) with Makki di Roti', 'Japanese Ramen Soup',\n",
       "       'Moroccan Chickpea Tagine', 'Korean Bibimbap', 'Greek Moussaka',\n",
       "       'Butter Chicken (Murgh Makhani)', 'Thai Green Curry',\n",
       "       'Mango Lassi', 'Italian Tiramisu', 'Turkish Kebabs',\n",
       "       'Blueberry Banana Smoothie', 'Mexican Street Corn (Elote)',\n",
       "       'Russian Borscht', 'South Indian Masala Dosa',\n",
       "       'Lebanese Falafel Wrap', 'Brazilian Caipirinha'], dtype=object)"
      ]
     },
     "execution_count": 17,
     "metadata": {},
     "output_type": "execute_result"
    }
   ],
   "source": [
    "np.array(df[\"name\"])"
   ]
  },
  {
   "cell_type": "code",
   "execution_count": null,
   "id": "e8d2285a",
   "metadata": {},
   "outputs": [],
   "source": []
  }
 ],
 "metadata": {
  "kernelspec": {
   "display_name": "Python 3",
   "language": "python",
   "name": "python3"
  },
  "language_info": {
   "codemirror_mode": {
    "name": "ipython",
    "version": 3
   },
   "file_extension": ".py",
   "mimetype": "text/x-python",
   "name": "python",
   "nbconvert_exporter": "python",
   "pygments_lexer": "ipython3",
   "version": "3.13.3"
  }
 },
 "nbformat": 4,
 "nbformat_minor": 5
}
