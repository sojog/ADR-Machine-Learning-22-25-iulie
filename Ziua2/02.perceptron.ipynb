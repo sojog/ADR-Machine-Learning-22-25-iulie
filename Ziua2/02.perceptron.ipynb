{
 "cells": [
  {
   "cell_type": "code",
   "execution_count": 1,
   "id": "2668013f",
   "metadata": {},
   "outputs": [],
   "source": [
    "def AND(x1, x2):\n",
    "    pass"
   ]
  },
  {
   "cell_type": "code",
   "execution_count": 2,
   "id": "665e3236",
   "metadata": {},
   "outputs": [],
   "source": [
    "def AND_CLASSIC(x1, x2):\n",
    "    return int(x1 and x2)"
   ]
  },
  {
   "cell_type": "code",
   "execution_count": 4,
   "id": "629ad2a1",
   "metadata": {},
   "outputs": [
    {
     "data": {
      "text/plain": [
       "1"
      ]
     },
     "execution_count": 4,
     "metadata": {},
     "output_type": "execute_result"
    }
   ],
   "source": [
    "AND_CLASSIC(1, 1)"
   ]
  },
  {
   "cell_type": "code",
   "execution_count": 5,
   "id": "65ec113a",
   "metadata": {},
   "outputs": [
    {
     "data": {
      "text/plain": [
       "0"
      ]
     },
     "execution_count": 5,
     "metadata": {},
     "output_type": "execute_result"
    }
   ],
   "source": [
    "AND_CLASSIC(1, 0)"
   ]
  },
  {
   "cell_type": "code",
   "execution_count": 6,
   "id": "92f769c8",
   "metadata": {},
   "outputs": [
    {
     "data": {
      "text/plain": [
       "0"
      ]
     },
     "execution_count": 6,
     "metadata": {},
     "output_type": "execute_result"
    }
   ],
   "source": [
    "AND_CLASSIC(0, 0)"
   ]
  },
  {
   "cell_type": "code",
   "execution_count": 7,
   "id": "52981632",
   "metadata": {},
   "outputs": [
    {
     "data": {
      "text/plain": [
       "0"
      ]
     },
     "execution_count": 7,
     "metadata": {},
     "output_type": "execute_result"
    }
   ],
   "source": [
    "AND_CLASSIC(0, 0)"
   ]
  },
  {
   "cell_type": "code",
   "execution_count": 8,
   "id": "2259373d",
   "metadata": {},
   "outputs": [],
   "source": [
    "def AND(x1, x2):\n",
    "    w1, w2, b = 0, 0, 0\n",
    "    return x1 * w1 + x2 * w2 + b\n",
    "\n",
    "\n"
   ]
  },
  {
   "cell_type": "code",
   "execution_count": 10,
   "id": "924d6b70",
   "metadata": {},
   "outputs": [
    {
     "data": {
      "text/plain": [
       "(0, 0, 0, 0)"
      ]
     },
     "execution_count": 10,
     "metadata": {},
     "output_type": "execute_result"
    }
   ],
   "source": [
    "AND(1, 1), AND(0, 1), AND(1, 0), AND(0, 0)"
   ]
  },
  {
   "cell_type": "code",
   "execution_count": 11,
   "id": "946ab770",
   "metadata": {},
   "outputs": [],
   "source": [
    "def step_function(x):\n",
    "    return 1 if x >= 0 else 0"
   ]
  },
  {
   "cell_type": "code",
   "execution_count": 12,
   "id": "a9f30eb2",
   "metadata": {},
   "outputs": [],
   "source": [
    "activation_function = step_function"
   ]
  },
  {
   "cell_type": "code",
   "execution_count": 20,
   "id": "53348c47",
   "metadata": {},
   "outputs": [],
   "source": [
    "def AND(x1, x2):\n",
    "    w1, w2, b = 1, 1, -1.5\n",
    "    suma = x1 * w1 + x2 * w2 + b\n",
    "    print(\"X1=\",x1, \"x2=\", x2, \"suma=\", suma)\n",
    "    return step_function(suma)"
   ]
  },
  {
   "cell_type": "code",
   "execution_count": 21,
   "id": "fee59fa5",
   "metadata": {},
   "outputs": [
    {
     "name": "stdout",
     "output_type": "stream",
     "text": [
      "X1= 1 x2= 1 suma= 0.5\n",
      "X1= 0 x2= 1 suma= -0.5\n",
      "X1= 1 x2= 0 suma= -0.5\n",
      "X1= 0 x2= 0 suma= -1.5\n"
     ]
    },
    {
     "data": {
      "text/plain": [
       "(1, 0, 0, 0)"
      ]
     },
     "execution_count": 21,
     "metadata": {},
     "output_type": "execute_result"
    }
   ],
   "source": [
    "AND(1, 1), AND(0, 1), AND(1, 0), AND(0, 0) # (1, 0, 0, 0)"
   ]
  },
  {
   "cell_type": "code",
   "execution_count": 28,
   "id": "699d282a",
   "metadata": {},
   "outputs": [],
   "source": [
    "def OR(x1, x2):\n",
    "    w1, w2, b = 1, 1, -1\n",
    "    suma = x1 * w1 + x2 * w2 + b\n",
    "    print(\"X1=\",x1, \"x2=\", x2, \"suma=\", suma)\n",
    "    return step_function(suma)"
   ]
  },
  {
   "cell_type": "code",
   "execution_count": 29,
   "id": "79668b64",
   "metadata": {},
   "outputs": [
    {
     "name": "stdout",
     "output_type": "stream",
     "text": [
      "X1= 1 x2= 1 suma= 1\n",
      "X1= 0 x2= 1 suma= 0\n",
      "X1= 1 x2= 0 suma= 0\n",
      "X1= 0 x2= 0 suma= -1\n"
     ]
    },
    {
     "data": {
      "text/plain": [
       "(1, 1, 1, 0)"
      ]
     },
     "execution_count": 29,
     "metadata": {},
     "output_type": "execute_result"
    }
   ],
   "source": [
    "OR(1, 1), OR(0, 1), OR(1, 0), OR(0, 0) # (1, 1, 1, 0)"
   ]
  },
  {
   "cell_type": "code",
   "execution_count": 40,
   "id": "62062c47",
   "metadata": {},
   "outputs": [],
   "source": [
    "def NOT(x1):\n",
    "    w1, b = -1, 0.5\n",
    "    suma = w1 * x1 + b\n",
    "    return  step_function(suma)\n",
    "    "
   ]
  },
  {
   "cell_type": "code",
   "execution_count": 41,
   "id": "e186100d",
   "metadata": {},
   "outputs": [
    {
     "data": {
      "text/plain": [
       "(0, 1)"
      ]
     },
     "execution_count": 41,
     "metadata": {},
     "output_type": "execute_result"
    }
   ],
   "source": [
    "NOT(1), NOT(0) # 0, 1"
   ]
  },
  {
   "cell_type": "markdown",
   "id": "fa19e489",
   "metadata": {},
   "source": [
    "# Functia sigmoida"
   ]
  },
  {
   "cell_type": "code",
   "execution_count": 44,
   "id": "b629c955",
   "metadata": {},
   "outputs": [],
   "source": [
    "import math\n",
    "def sigmoida(x):\n",
    "    return 1 / ( 1 + math.exp( -x) )"
   ]
  },
  {
   "cell_type": "code",
   "execution_count": 45,
   "id": "0c9b504b",
   "metadata": {},
   "outputs": [
    {
     "data": {
      "text/plain": [
       "0.5"
      ]
     },
     "execution_count": 45,
     "metadata": {},
     "output_type": "execute_result"
    }
   ],
   "source": [
    "sigmoida(0)"
   ]
  },
  {
   "cell_type": "code",
   "execution_count": 46,
   "id": "22822820",
   "metadata": {},
   "outputs": [
    {
     "data": {
      "text/plain": [
       "1.0"
      ]
     },
     "execution_count": 46,
     "metadata": {},
     "output_type": "execute_result"
    }
   ],
   "source": [
    "sigmoida(10 * 5)"
   ]
  },
  {
   "cell_type": "code",
   "execution_count": 48,
   "id": "953e3880",
   "metadata": {},
   "outputs": [
    {
     "data": {
      "text/plain": [
       "0.0"
      ]
     },
     "execution_count": 48,
     "metadata": {},
     "output_type": "execute_result"
    }
   ],
   "source": [
    "round(sigmoida(-10 * 5), 4)"
   ]
  },
  {
   "cell_type": "code",
   "execution_count": 52,
   "id": "4cad7cdd",
   "metadata": {},
   "outputs": [
    {
     "data": {
      "text/plain": [
       "0.7310585786300049"
      ]
     },
     "execution_count": 52,
     "metadata": {},
     "output_type": "execute_result"
    }
   ],
   "source": [
    "sigmoida(1)"
   ]
  },
  {
   "cell_type": "code",
   "execution_count": 51,
   "id": "b4bbea73",
   "metadata": {},
   "outputs": [
    {
     "data": {
      "text/plain": [
       "0.2689414213699951"
      ]
     },
     "execution_count": 51,
     "metadata": {},
     "output_type": "execute_result"
    }
   ],
   "source": [
    "sigmoida(-1)"
   ]
  },
  {
   "cell_type": "code",
   "execution_count": 57,
   "id": "ded921e7",
   "metadata": {},
   "outputs": [],
   "source": [
    "import numpy as np\n",
    "\n",
    "def sigmoida(x):\n",
    "    return 1 / (1 + np.exp(-x))"
   ]
  },
  {
   "cell_type": "code",
   "execution_count": 58,
   "id": "69d1436d",
   "metadata": {},
   "outputs": [
    {
     "data": {
      "text/plain": [
       "(np.float64(0.5),\n",
       " np.float64(0.9999546021312976),\n",
       " np.float64(4.5397868702434395e-05),\n",
       " np.float64(0.5),\n",
       " np.float64(0.9999546021312976),\n",
       " np.float64(3.7200759760208356e-44))"
      ]
     },
     "execution_count": 58,
     "metadata": {},
     "output_type": "execute_result"
    }
   ],
   "source": [
    "sigmoida(0), sigmoida(10), sigmoida(-10), sigmoida(0), sigmoida(10), sigmoida(-10*10)"
   ]
  },
  {
   "cell_type": "code",
   "execution_count": null,
   "id": "868a0f03",
   "metadata": {},
   "outputs": [],
   "source": []
  },
  {
   "cell_type": "code",
   "execution_count": 69,
   "id": "538486a9",
   "metadata": {},
   "outputs": [
    {
     "name": "stdout",
     "output_type": "stream",
     "text": [
      "suma=  1 * 100 + 1 * 100 + -150 = 50\n",
      "suma=  0 * 100 + 1 * 100 + -150 = -50\n",
      "suma=  1 * 100 + 0 * 100 + -150 = -50\n",
      "suma=  0 * 100 + 0 * 100 + -150 = -150\n"
     ]
    },
    {
     "data": {
      "text/plain": [
       "(np.float64(1.0),\n",
       " np.float64(1.928749847963918e-22),\n",
       " np.float64(1.928749847963918e-22),\n",
       " np.float64(7.175095973164411e-66))"
      ]
     },
     "execution_count": 69,
     "metadata": {},
     "output_type": "execute_result"
    }
   ],
   "source": [
    "def AND(x1, x2):\n",
    "    w1, w2, b = 100, 100, -150\n",
    "    suma = x1 * w1 + x2 * w2 + b\n",
    "    # print(\"X1=\",x1, \"x2=\", x2, \"suma=\", suma)\n",
    "    print(\"suma= \", f\"{x1} * {w1} + {x2} * {w2} + {b} = {suma}\")\n",
    "    return sigmoida(suma)\n",
    "\n",
    "AND(1, 1), AND(0, 1), AND(1, 0), AND(0, 0)"
   ]
  },
  {
   "cell_type": "code",
   "execution_count": 71,
   "id": "f13fd468",
   "metadata": {},
   "outputs": [
    {
     "name": "stdout",
     "output_type": "stream",
     "text": [
      "suma=  1 * 1 + 1 * 1 + -1 = 1\n",
      "suma=  0 * 1 + 1 * 1 + -1 = 0\n",
      "suma=  1 * 1 + 0 * 1 + -1 = 0\n",
      "suma=  0 * 1 + 0 * 1 + -1 = -1\n"
     ]
    },
    {
     "data": {
      "text/plain": [
       "(np.float64(0.7310585786300049),\n",
       " np.float64(0.5),\n",
       " np.float64(0.5),\n",
       " np.float64(0.2689414213699951))"
      ]
     },
     "execution_count": 71,
     "metadata": {},
     "output_type": "execute_result"
    }
   ],
   "source": [
    "def OR(x1, x2):\n",
    "    w1, w2, b = 1, 1, -1\n",
    "    suma = x1 * w1 + x2 * w2 + b\n",
    "    # print(\"X1=\",x1, \"x2=\", x2, \"suma=\", suma)\n",
    "    print(\"suma= \", f\"{x1} * {w1} + {x2} * {w2} + {b} = {suma}\")\n",
    "    return sigmoida(suma)\n",
    "\n",
    "OR(1, 1), OR(0, 1), OR(1, 0), OR(0, 0) # (1, 1, 1, 0)"
   ]
  },
  {
   "cell_type": "code",
   "execution_count": 73,
   "id": "66bd882c",
   "metadata": {},
   "outputs": [
    {
     "name": "stdout",
     "output_type": "stream",
     "text": [
      "suma=  1 * 100 + 1 * 100 + -50 = 150\n",
      "suma=  0 * 100 + 1 * 100 + -50 = 50\n",
      "suma=  1 * 100 + 0 * 100 + -50 = 50\n",
      "suma=  0 * 100 + 0 * 100 + -50 = -50\n"
     ]
    },
    {
     "data": {
      "text/plain": [
       "(np.float64(1.0),\n",
       " np.float64(1.0),\n",
       " np.float64(1.0),\n",
       " np.float64(1.928749847963918e-22))"
      ]
     },
     "execution_count": 73,
     "metadata": {},
     "output_type": "execute_result"
    }
   ],
   "source": [
    "def OR(x1, x2):\n",
    "    w1, w2, b = 100, 100, -50\n",
    "    suma = x1 * w1 + x2 * w2 + b\n",
    "    # print(\"X1=\",x1, \"x2=\", x2, \"suma=\", suma)\n",
    "    print(\"suma= \", f\"{x1} * {w1} + {x2} * {w2} + {b} = {suma}\")\n",
    "    return sigmoida(suma)\n",
    "\n",
    "OR(1, 1), OR(0, 1), OR(1, 0), OR(0, 0) # (1, 1, 1, 0)"
   ]
  },
  {
   "cell_type": "code",
   "execution_count": 74,
   "id": "5a1a56a8",
   "metadata": {},
   "outputs": [
    {
     "data": {
      "text/plain": [
       "(np.float64(0.3775406687981454), np.float64(0.6224593312018546))"
      ]
     },
     "execution_count": 74,
     "metadata": {},
     "output_type": "execute_result"
    }
   ],
   "source": [
    "def NOT(x1):\n",
    "    w1, b = -1, 0.5\n",
    "    suma = w1 * x1 + b\n",
    "    return  sigmoida(suma)\n",
    "\n",
    "NOT(1), NOT(0) # 0, 1"
   ]
  },
  {
   "cell_type": "code",
   "execution_count": 75,
   "id": "97bc5661",
   "metadata": {},
   "outputs": [
    {
     "data": {
      "text/plain": [
       "(np.float64(0.0066928509242848554), np.float64(0.9933071490757153))"
      ]
     },
     "execution_count": 75,
     "metadata": {},
     "output_type": "execute_result"
    }
   ],
   "source": [
    "def NOT(x1):\n",
    "    w1, b = -10, 5\n",
    "    suma = w1 * x1 + b\n",
    "    return  sigmoida(suma)\n",
    "\n",
    "NOT(1), NOT(0) # 0, 1"
   ]
  },
  {
   "cell_type": "code",
   "execution_count": null,
   "id": "72776095",
   "metadata": {},
   "outputs": [],
   "source": []
  }
 ],
 "metadata": {
  "kernelspec": {
   "display_name": "Python 3",
   "language": "python",
   "name": "python3"
  },
  "language_info": {
   "codemirror_mode": {
    "name": "ipython",
    "version": 3
   },
   "file_extension": ".py",
   "mimetype": "text/x-python",
   "name": "python",
   "nbconvert_exporter": "python",
   "pygments_lexer": "ipython3",
   "version": "3.13.3"
  }
 },
 "nbformat": 4,
 "nbformat_minor": 5
}
