{
 "cells": [
  {
   "cell_type": "code",
   "execution_count": 1,
   "id": "3300ac8f",
   "metadata": {},
   "outputs": [],
   "source": [
    "import numpy as np"
   ]
  },
  {
   "cell_type": "code",
   "execution_count": 2,
   "id": "fa6638a5",
   "metadata": {},
   "outputs": [],
   "source": [
    "def sigmoid(x):\n",
    "    return 1 / (1 + np.exp(-x))"
   ]
  },
  {
   "cell_type": "code",
   "execution_count": 35,
   "id": "a45196ef",
   "metadata": {},
   "outputs": [],
   "source": [
    "class Neuron:\n",
    "    def __init__(self, weights, bias):\n",
    "        self.weights = weights\n",
    "        self.bias = bias\n",
    "\n",
    "    def __str__(self):\n",
    "        return f\"Neuronul cu greutatile {self.weights} si bias {self.bias}\"\n",
    "    \n",
    "    # functia de calcul care primeste vectori X\n",
    "    def feedforward(self, inputs):\n",
    "        dot_sum = np.dot(self.weights, inputs) + self.bias\n",
    "        return sigmoid(dot_sum)\n",
    "\n",
    "        "
   ]
  },
  {
   "cell_type": "code",
   "execution_count": 36,
   "id": "116f8e15",
   "metadata": {},
   "outputs": [
    {
     "name": "stdout",
     "output_type": "stream",
     "text": [
      "Neuronul cu greutatile [2, 3] si bias 5\n"
     ]
    },
    {
     "data": {
      "text/plain": [
       "np.float64(1.0)"
      ]
     },
     "execution_count": 36,
     "metadata": {},
     "output_type": "execute_result"
    }
   ],
   "source": [
    "w = [2, 3]\n",
    "b = 5\n",
    "\n",
    "n1 = Neuron(w, b)\n",
    "print(n1)\n",
    "n1.feedforward([10, 5])"
   ]
  },
  {
   "cell_type": "code",
   "execution_count": 25,
   "id": "b2e26b4b",
   "metadata": {},
   "outputs": [
    {
     "data": {
      "text/plain": [
       "(str, 'Neuronul cu greutatile [2, 3] si bias 5')"
      ]
     },
     "execution_count": 25,
     "metadata": {},
     "output_type": "execute_result"
    }
   ],
   "source": [
    "s = str(n1)\n",
    "type(s), s"
   ]
  },
  {
   "cell_type": "code",
   "execution_count": 28,
   "id": "69bc1628",
   "metadata": {},
   "outputs": [
    {
     "data": {
      "text/plain": [
       "array([20, 15])"
      ]
     },
     "execution_count": 28,
     "metadata": {},
     "output_type": "execute_result"
    }
   ],
   "source": [
    "np.array([2, 3]) * np.array([10, 5])"
   ]
  },
  {
   "cell_type": "code",
   "execution_count": 29,
   "id": "f58b1445",
   "metadata": {},
   "outputs": [
    {
     "data": {
      "text/plain": [
       "np.int64(35)"
      ]
     },
     "execution_count": 29,
     "metadata": {},
     "output_type": "execute_result"
    }
   ],
   "source": [
    "np.dot([2, 3], [10, 5])"
   ]
  },
  {
   "cell_type": "code",
   "execution_count": 30,
   "id": "3702517b",
   "metadata": {},
   "outputs": [
    {
     "data": {
      "text/plain": [
       "np.int64(35)"
      ]
     },
     "execution_count": 30,
     "metadata": {},
     "output_type": "execute_result"
    }
   ],
   "source": [
    "np.sum(np.array([2, 3]) * np.array([10, 5]))"
   ]
  },
  {
   "cell_type": "code",
   "execution_count": null,
   "id": "a7d9c77b",
   "metadata": {},
   "outputs": [],
   "source": [
    "class Neuron:\n",
    "    def __init__(self, weights, bias):\n",
    "        self.weights = weights\n",
    "        self.bias = bias\n",
    "\n",
    "    def __str__(self):\n",
    "        return f\"Neuronul cu greutatile {self.weights} si bias {self.bias}\"\n",
    "    \n",
    "    # functia de calcul care primeste vectori X\n",
    "    def feedforward(self, inputs):\n",
    "        dot_sum = np.dot(self.weights, inputs) + self.bias\n",
    "        return sigmoid(dot_sum)"
   ]
  },
  {
   "cell_type": "code",
   "execution_count": null,
   "id": "cc7824db",
   "metadata": {},
   "outputs": [],
   "source": [
    "class ReteaNeuronala:\n",
    "    def __init__(self):\n",
    "        self.weights = [0, 20]\n",
    "        self.bias = 0\n",
    "        self.hidden1 = Neuron(self.weights , self.bias)\n",
    "        self.hidden2 =  Neuron(self.weights , self.bias)\n",
    "        self.output =  Neuron(self.weights , self.bias)\n",
    "\n",
    "    def feedforward(self, inputs):\n",
    "        output_hidden1 = self.hidden1.feedforward(inputs)\n",
    "        output_hidden2 = self.hidden2.feedforward(inputs)\n",
    "        last_output = self.output.feedforward([output_hidden1, output_hidden2])\n",
    "        return last_output\n",
    "    \n",
    "    def backpropagation(self):\n",
    "        pass\n",
    "    \n",
    "    def __str__(self):\n",
    "        return f\"Retea Neuronala\""
   ]
  },
  {
   "cell_type": "code",
   "execution_count": 46,
   "id": "8dbaa742",
   "metadata": {},
   "outputs": [
    {
     "data": {
      "text/plain": [
       "array([0.9999546, 1.       ])"
      ]
     },
     "execution_count": 46,
     "metadata": {},
     "output_type": "execute_result"
    }
   ],
   "source": [
    "nn = ReteaNeuronala()\n",
    "nn.feedforward(3)\n"
   ]
  },
  {
   "cell_type": "code",
   "execution_count": null,
   "id": "fc0087d3",
   "metadata": {},
   "outputs": [],
   "source": []
  }
 ],
 "metadata": {
  "kernelspec": {
   "display_name": "Python 3",
   "language": "python",
   "name": "python3"
  },
  "language_info": {
   "codemirror_mode": {
    "name": "ipython",
    "version": 3
   },
   "file_extension": ".py",
   "mimetype": "text/x-python",
   "name": "python",
   "nbconvert_exporter": "python",
   "pygments_lexer": "ipython3",
   "version": "3.13.3"
  }
 },
 "nbformat": 4,
 "nbformat_minor": 5
}
