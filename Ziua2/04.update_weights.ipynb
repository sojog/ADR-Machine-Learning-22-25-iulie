{
 "cells": [
  {
   "cell_type": "code",
   "execution_count": 1,
   "id": "bf1ad177",
   "metadata": {},
   "outputs": [],
   "source": [
    "import numpy as np"
   ]
  },
  {
   "cell_type": "code",
   "execution_count": 2,
   "id": "bc0a1b60",
   "metadata": {},
   "outputs": [],
   "source": [
    "input_reale = np.array([1, 0, 0, 1])\n",
    "input_prezise = np.array([0, 0, 0, 0])\n"
   ]
  },
  {
   "cell_type": "code",
   "execution_count": 3,
   "id": "caa04407",
   "metadata": {},
   "outputs": [
    {
     "data": {
      "text/plain": [
       "array([1, 0, 0, 1])"
      ]
     },
     "execution_count": 3,
     "metadata": {},
     "output_type": "execute_result"
    }
   ],
   "source": [
    "input_reale - input_prezise"
   ]
  },
  {
   "cell_type": "code",
   "execution_count": 4,
   "id": "1e3b5461",
   "metadata": {},
   "outputs": [
    {
     "data": {
      "text/plain": [
       "array([-1,  0,  0, -1])"
      ]
     },
     "execution_count": 4,
     "metadata": {},
     "output_type": "execute_result"
    }
   ],
   "source": [
    "input_prezise - input_reale "
   ]
  },
  {
   "cell_type": "code",
   "execution_count": 5,
   "id": "05a05304",
   "metadata": {},
   "outputs": [
    {
     "data": {
      "text/plain": [
       "array([1, 0, 0, 1])"
      ]
     },
     "execution_count": 5,
     "metadata": {},
     "output_type": "execute_result"
    }
   ],
   "source": [
    "(input_reale - input_prezise) ** 2"
   ]
  },
  {
   "cell_type": "code",
   "execution_count": null,
   "id": "cacb72d5",
   "metadata": {},
   "outputs": [
    {
     "data": {
      "text/plain": [
       "array([1, 0, 0, 1])"
      ]
     },
     "execution_count": 6,
     "metadata": {},
     "output_type": "execute_result"
    }
   ],
   "source": [
    "(input_prezise - input_reale ) ** 2"
   ]
  },
  {
   "cell_type": "code",
   "execution_count": 7,
   "id": "d19b360f",
   "metadata": {},
   "outputs": [
    {
     "data": {
      "text/plain": [
       "np.int64(2)"
      ]
     },
     "execution_count": 7,
     "metadata": {},
     "output_type": "execute_result"
    }
   ],
   "source": [
    "np.sum((input_prezise - input_reale ) ** 2)"
   ]
  },
  {
   "cell_type": "code",
   "execution_count": 8,
   "id": "8c74acff",
   "metadata": {},
   "outputs": [
    {
     "data": {
      "text/plain": [
       "np.float64(0.5)"
      ]
     },
     "execution_count": 8,
     "metadata": {},
     "output_type": "execute_result"
    }
   ],
   "source": [
    "np.mean((input_prezise - input_reale ) ** 2)"
   ]
  },
  {
   "cell_type": "code",
   "execution_count": 9,
   "id": "1ac962db",
   "metadata": {},
   "outputs": [],
   "source": [
    "def mse_loss(y_real, y_prezis):\n",
    "    return np.mean((y_real - y_prezis ) ** 2)"
   ]
  },
  {
   "cell_type": "code",
   "execution_count": null,
   "id": "edfdda17",
   "metadata": {},
   "outputs": [],
   "source": []
  }
 ],
 "metadata": {
  "kernelspec": {
   "display_name": "Python 3",
   "language": "python",
   "name": "python3"
  },
  "language_info": {
   "codemirror_mode": {
    "name": "ipython",
    "version": 3
   },
   "file_extension": ".py",
   "mimetype": "text/x-python",
   "name": "python",
   "nbconvert_exporter": "python",
   "pygments_lexer": "ipython3",
   "version": "3.13.3"
  }
 },
 "nbformat": 4,
 "nbformat_minor": 5
}
