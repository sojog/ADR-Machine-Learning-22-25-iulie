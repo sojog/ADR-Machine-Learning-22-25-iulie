{
 "cells": [
  {
   "cell_type": "code",
   "execution_count": 154,
   "id": "3c23c03e",
   "metadata": {},
   "outputs": [],
   "source": [
    "import numpy as np"
   ]
  },
  {
   "cell_type": "code",
   "execution_count": 155,
   "id": "a6d400fc",
   "metadata": {},
   "outputs": [],
   "source": [
    "def mse_loss(y_real, y_prezis):\n",
    "    return np.mean((y_real - y_prezis ) ** 2)"
   ]
  },
  {
   "cell_type": "code",
   "execution_count": 156,
   "id": "9b12363d",
   "metadata": {},
   "outputs": [],
   "source": [
    "def sigmoid(x):\n",
    "    return 1 / (1 + np.exp(-x))"
   ]
  },
  {
   "cell_type": "code",
   "execution_count": 157,
   "id": "14d51dc1",
   "metadata": {},
   "outputs": [],
   "source": [
    "def deriv_sigmoid(x):\n",
    "    fx = sigmoid(x)\n",
    "\n",
    "    return fx * (1-fx)"
   ]
  },
  {
   "cell_type": "code",
   "execution_count": 158,
   "id": "e9634c57",
   "metadata": {},
   "outputs": [],
   "source": [
    "class Neuron:\n",
    "    def __init__(self, weights, bias):\n",
    "        self.weights = weights\n",
    "        self.bias = bias\n",
    "\n",
    "    def __str__(self):\n",
    "        return f\"Neuronul cu greutatile {self.weights} si bias {self.bias}\"\n",
    "    \n",
    "    # functia de calcul care primeste vectori X\n",
    "    def feedforward(self, inputs):\n",
    "        dot_sum = np.dot(self.weights, inputs) + self.bias\n",
    "        return sigmoid(dot_sum)\n",
    "    \n",
    "    def update_weights(self, new_weights, new_bias):\n",
    "        self.weights = new_weights\n",
    "        self.bias = new_bias \n"
   ]
  },
  {
   "cell_type": "code",
   "execution_count": 178,
   "id": "0eff76ec",
   "metadata": {},
   "outputs": [
    {
     "data": {
      "text/plain": [
       "0.25548958820782697"
      ]
     },
     "execution_count": 178,
     "metadata": {},
     "output_type": "execute_result"
    }
   ],
   "source": [
    "np.random.random()"
   ]
  },
  {
   "cell_type": "code",
   "execution_count": 159,
   "id": "7b44c59c",
   "metadata": {},
   "outputs": [],
   "source": [
    "class ReteaNeuronala:\n",
    "    def __init__(self):\n",
    "        # hidden1\n",
    "        self.w1 = np.random.random()\n",
    "        self.w2 = np.random.random()\n",
    "         # hidden2\n",
    "        self.w3 = np.random.random()\n",
    "        self.w4 = np.random.random()\n",
    "         # output\n",
    "        self.w5 = np.random.random()\n",
    "        self.w6 = np.random.random()\n",
    "\n",
    "        # biases\n",
    "        self.b1 = np.random.random()\n",
    "        self.b2 = np.random.random()\n",
    "        self.b3 = np.random.random()\n",
    "        \n",
    "        self.hidden1 = Neuron([self.w1, self.w2] , self.b1)\n",
    "        self.hidden2 =  Neuron([self.w3, self.w4] , self.b2)\n",
    "        self.output =  Neuron([self.w5, self.w6] , self.b3)\n",
    "\n",
    "    def feedforward(self, inputs):\n",
    "        output_hidden1 = self.hidden1.feedforward(inputs)\n",
    "        output_hidden2 = self.hidden2.feedforward(inputs)\n",
    "        last_output = self.output.feedforward([output_hidden1, output_hidden2])\n",
    "        return last_output\n",
    "    \n",
    "    # input_data:x, real_data: y\n",
    "    def train_net(self, input_data, real_data):\n",
    "        STEPS = 10 ** 3\n",
    "        LEARNING_RATE = 0.01 # 10, 1,  0.1, 0.01, 0.001, 0.0001\n",
    "        \n",
    "        for i in range(STEPS):\n",
    "            for x, y_true in zip (input_data, real_data):\n",
    "                suma_hidden1 = self.w1 * x[0] + self.w2 * x[1] + self.b1\n",
    "                rezultat_h1 = sigmoid(suma_hidden1)\n",
    "\n",
    "                suma_hidden2 = self.w3 * x[0] + self.w4 * x[1] + self.b2\n",
    "                rezultat_h2 = sigmoid(suma_hidden2)\n",
    "\n",
    "                suma_output = rezultat_h1 * self.w5 + rezultat_h2 * self.w6 + self.b3\n",
    "                rezultat_output =  sigmoid(suma_output) ## y_prezis\n",
    "\n",
    "                y_prezis = rezultat_output\n",
    "\n",
    "                # Verificare y_prezis vs y_real + ajustare\n",
    "                # (y_prezis - y_real) ** 2\n",
    "\n",
    "                derivata_y_prezis = - 2  * (y_true - y_prezis)\n",
    "                \n",
    "                ## Output layer\n",
    "                derivata_w5_y_prezis = rezultat_h1 * deriv_sigmoid(suma_output)\n",
    "                derivata_w6_y_prezis = rezultat_h2 * deriv_sigmoid(suma_output)\n",
    "                derivata_b3_y_prezis = 1 * deriv_sigmoid(suma_output)\n",
    "\n",
    "                ## Hidden layer 1\n",
    "                derivata_h1_y_prezis = self.w5 * deriv_sigmoid(suma_output)\n",
    "                ## Hidden layer 2\n",
    "                derivata_h2_y_prezis = self.w6 * deriv_sigmoid(suma_output)\n",
    "\n",
    "                ## Hidden layer 1\n",
    "                derivata_w1_h1 = x[0] * deriv_sigmoid(suma_hidden1)\n",
    "                derivata_w2_h1 = x[1] * deriv_sigmoid(suma_hidden1)\n",
    "                derivata_b1_h1 = 1 * deriv_sigmoid(suma_hidden1)\n",
    "\n",
    "                 ## Hidden layer 2\n",
    "                derivata_w3_h2 = x[0] * deriv_sigmoid(suma_hidden2)\n",
    "                derivata_w4_h2 = x[1] * deriv_sigmoid(suma_hidden2)\n",
    "                derivata_b2_h2 = 1 * deriv_sigmoid(suma_hidden2)\n",
    "\n",
    "\n",
    "                self.w1 = self.w1  - LEARNING_RATE * derivata_y_prezis * derivata_w1_h1 * derivata_h1_y_prezis\n",
    "                self.w2 = self.w2  - LEARNING_RATE * derivata_y_prezis * derivata_w2_h1 * derivata_h1_y_prezis\n",
    "                # hidden2\n",
    "                self.w3 = self.w3  - LEARNING_RATE * derivata_y_prezis * derivata_w3_h2 * derivata_h2_y_prezis\n",
    "                self.w4 = self.w4  - LEARNING_RATE * derivata_y_prezis * derivata_w4_h2 * derivata_h2_y_prezis\n",
    "                # output\n",
    "                self.w5 = self.w5 - LEARNING_RATE * derivata_y_prezis * derivata_w5_y_prezis\n",
    "                self.w6 = self.w6 - LEARNING_RATE * derivata_y_prezis * derivata_w6_y_prezis\n",
    "\n",
    "                # biases\n",
    "                self.b1 = self.b1  - LEARNING_RATE * derivata_y_prezis * derivata_b1_h1\n",
    "                self.b2 = self.b2 - LEARNING_RATE * derivata_y_prezis * derivata_b2_h2\n",
    "                self.b3 = self.b3  - LEARNING_RATE * derivata_y_prezis * derivata_b3_y_prezis\n",
    "\n",
    "                self.hidden1.update_weights([self.w1, self.w2], self.b1)\n",
    "                self.hidden2.update_weights([self.w3, self.w4], self.b2)\n",
    "                self.output.update_weights([self.w5, self.w6], self.b3)\n",
    "                \n",
    "                \n",
    "    \n",
    "    def __str__(self):\n",
    "        return f\"Retea Neuronala\""
   ]
  },
  {
   "cell_type": "code",
   "execution_count": 160,
   "id": "2460341e",
   "metadata": {},
   "outputs": [],
   "source": [
    "date_initiale = {\n",
    "    \"Alina\" : [60, 165, True],\n",
    "    \"Bogdan\" : [72, 183, False],\n",
    "    \"Ciprian\" : [69, 178, False],\n",
    "    \"Diana\" : [55, 152, True]\n",
    "}"
   ]
  },
  {
   "cell_type": "code",
   "execution_count": 161,
   "id": "68e4d642",
   "metadata": {},
   "outputs": [
    {
     "data": {
      "text/plain": [
       "dict_values([[60, 165, True], [72, 183, False], [69, 178, False], [55, 152, True]])"
      ]
     },
     "execution_count": 161,
     "metadata": {},
     "output_type": "execute_result"
    }
   ],
   "source": [
    "date_initiale.values()"
   ]
  },
  {
   "cell_type": "code",
   "execution_count": 162,
   "id": "39f2e112",
   "metadata": {},
   "outputs": [],
   "source": [
    "def preprocesarea_datelor(input_data):\n",
    "    kg, inaltime, gen = input_data\n",
    "    return ((kg - 61), (inaltime - 168), gen)"
   ]
  },
  {
   "cell_type": "code",
   "execution_count": 163,
   "id": "00304cc1",
   "metadata": {},
   "outputs": [
    {
     "data": {
      "text/plain": [
       "(-1, -3, True)"
      ]
     },
     "execution_count": 163,
     "metadata": {},
     "output_type": "execute_result"
    }
   ],
   "source": [
    "preprocesarea_datelor(date_initiale[\"Alina\"])"
   ]
  },
  {
   "cell_type": "code",
   "execution_count": 164,
   "id": "4fd9660f",
   "metadata": {},
   "outputs": [
    {
     "data": {
      "text/plain": [
       "[(-1, -3, True), (11, 15, False), (8, 10, False), (-6, -16, True)]"
      ]
     },
     "execution_count": 164,
     "metadata": {},
     "output_type": "execute_result"
    }
   ],
   "source": [
    "training_data = []\n",
    "\n",
    "for data_entry in date_initiale.values():\n",
    "    training_data.append(preprocesarea_datelor(data_entry))\n",
    "\n",
    "training_data"
   ]
  },
  {
   "cell_type": "code",
   "execution_count": 165,
   "id": "ba89715d",
   "metadata": {},
   "outputs": [],
   "source": [
    "my_nn = ReteaNeuronala()"
   ]
  },
  {
   "cell_type": "code",
   "execution_count": 166,
   "id": "45870313",
   "metadata": {},
   "outputs": [
    {
     "data": {
      "text/plain": [
       "[[-1, -3], [11, 15], [8, 10], [-6, -16]]"
      ]
     },
     "execution_count": 166,
     "metadata": {},
     "output_type": "execute_result"
    }
   ],
   "source": [
    "x_train = []\n",
    "for data in training_data:\n",
    "    x_train.append([data[0], data[1]])\n",
    "\n",
    "x_train"
   ]
  },
  {
   "cell_type": "code",
   "execution_count": 167,
   "id": "3ffbb4a8",
   "metadata": {},
   "outputs": [
    {
     "data": {
      "text/plain": [
       "[-3, 15, 10, -16]"
      ]
     },
     "execution_count": 167,
     "metadata": {},
     "output_type": "execute_result"
    }
   ],
   "source": [
    "y_train = []\n",
    "for data in training_data:\n",
    "    y_train.append(data[1])\n",
    "\n",
    "y_train"
   ]
  },
  {
   "cell_type": "code",
   "execution_count": 168,
   "id": "7a3d4d1d",
   "metadata": {},
   "outputs": [],
   "source": [
    "my_nn.train_net(x_train, y_train)"
   ]
  },
  {
   "cell_type": "code",
   "execution_count": 169,
   "id": "b78c7a58",
   "metadata": {},
   "outputs": [],
   "source": [
    "date_test = {\n",
    "    \"Elena\" : [58, 162, True],\n",
    "    \"Florin\" : [90, 193, False],\n",
    "    \"George\" : [80, 180, False],\n",
    "    \"Ioana\" : [60, 150, False],\n",
    "    \"Nedefinit\" : [65, 165, False]\n",
    "}"
   ]
  },
  {
   "cell_type": "code",
   "execution_count": 170,
   "id": "5cc591a3",
   "metadata": {},
   "outputs": [
    {
     "data": {
      "text/plain": [
       "[(-3, -6, True),\n",
       " (29, 25, False),\n",
       " (19, 12, False),\n",
       " (-1, -18, False),\n",
       " (4, -3, False)]"
      ]
     },
     "execution_count": 170,
     "metadata": {},
     "output_type": "execute_result"
    }
   ],
   "source": [
    "test_data = []\n",
    "\n",
    "for data_entry in date_test.values():\n",
    "    test_data.append(preprocesarea_datelor(data_entry))\n",
    "\n",
    "test_data"
   ]
  },
  {
   "cell_type": "code",
   "execution_count": 171,
   "id": "17e4f87b",
   "metadata": {},
   "outputs": [
    {
     "data": {
      "text/plain": [
       "[[-3, -6], [29, 25], [19, 12], [-1, -18], [4, -3]]"
      ]
     },
     "execution_count": 171,
     "metadata": {},
     "output_type": "execute_result"
    }
   ],
   "source": [
    "x_test = []\n",
    "for data in test_data:\n",
    "    x_test.append([data[0], data[1]])\n",
    "\n",
    "x_test"
   ]
  },
  {
   "cell_type": "code",
   "execution_count": 172,
   "id": "7444a25c",
   "metadata": {},
   "outputs": [
    {
     "data": {
      "text/plain": [
       "np.float64(0.005378176924160354)"
      ]
     },
     "execution_count": 172,
     "metadata": {},
     "output_type": "execute_result"
    }
   ],
   "source": [
    "my_nn.feedforward(x_test[0])"
   ]
  },
  {
   "cell_type": "code",
   "execution_count": 173,
   "id": "79d3e359",
   "metadata": {},
   "outputs": [
    {
     "data": {
      "text/plain": [
       "np.float64(0.9977476020694152)"
      ]
     },
     "execution_count": 173,
     "metadata": {},
     "output_type": "execute_result"
    }
   ],
   "source": [
    "my_nn.feedforward(x_test[1])"
   ]
  },
  {
   "cell_type": "code",
   "execution_count": 174,
   "id": "9e8c83ed",
   "metadata": {},
   "outputs": [
    {
     "data": {
      "text/plain": [
       "np.float64(0.9977476020689217)"
      ]
     },
     "execution_count": 174,
     "metadata": {},
     "output_type": "execute_result"
    }
   ],
   "source": [
    "my_nn.feedforward(x_test[2])"
   ]
  },
  {
   "cell_type": "code",
   "execution_count": 175,
   "id": "2de76755",
   "metadata": {},
   "outputs": [
    {
     "data": {
      "text/plain": [
       "np.float64(0.005372957447239151)"
      ]
     },
     "execution_count": 175,
     "metadata": {},
     "output_type": "execute_result"
    }
   ],
   "source": [
    "my_nn.feedforward(x_test[3])"
   ]
  },
  {
   "cell_type": "code",
   "execution_count": 176,
   "id": "4f59928c",
   "metadata": {},
   "outputs": [
    {
     "data": {
      "text/plain": [
       "np.float64(0.06254005600643288)"
      ]
     },
     "execution_count": 176,
     "metadata": {},
     "output_type": "execute_result"
    }
   ],
   "source": [
    "my_nn.feedforward(x_test[4])"
   ]
  }
 ],
 "metadata": {
  "kernelspec": {
   "display_name": "Python 3",
   "language": "python",
   "name": "python3"
  },
  "language_info": {
   "codemirror_mode": {
    "name": "ipython",
    "version": 3
   },
   "file_extension": ".py",
   "mimetype": "text/x-python",
   "name": "python",
   "nbconvert_exporter": "python",
   "pygments_lexer": "ipython3",
   "version": "3.13.3"
  }
 },
 "nbformat": 4,
 "nbformat_minor": 5
}
