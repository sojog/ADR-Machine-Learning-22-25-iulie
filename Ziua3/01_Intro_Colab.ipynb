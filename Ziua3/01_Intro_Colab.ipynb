{
  "nbformat": 4,
  "nbformat_minor": 0,
  "metadata": {
    "colab": {
      "provenance": [],
      "gpuType": "T4"
    },
    "kernelspec": {
      "name": "python3",
      "display_name": "Python 3"
    },
    "language_info": {
      "name": "python"
    },
    "accelerator": "GPU"
  },
  "cells": [
    {
      "cell_type": "code",
      "execution_count": 2,
      "metadata": {
        "id": "y7ZmTW9REWMj"
      },
      "outputs": [],
      "source": [
        "import numpy as np\n",
        "import pandas as pd\n",
        "import matplotlib.pyplot as plt\n",
        "import seaborn as sns\n",
        "from sklearn.datasets import load_digits"
      ]
    },
    {
      "cell_type": "markdown",
      "source": [
        "# Intro to tensorflow"
      ],
      "metadata": {
        "id": "cbIjiZ8JE4hi"
      }
    },
    {
      "cell_type": "code",
      "source": [
        "import tensorflow as tf"
      ],
      "metadata": {
        "id": "djJV9WdVEjMl"
      },
      "execution_count": 3,
      "outputs": []
    },
    {
      "cell_type": "code",
      "source": [
        "tf.__version__"
      ],
      "metadata": {
        "colab": {
          "base_uri": "https://localhost:8080/",
          "height": 35
        },
        "id": "UROqKyfcFDM1",
        "outputId": "5469b5c0-86cc-4714-9bf0-3dba8133dc2a"
      },
      "execution_count": 4,
      "outputs": [
        {
          "output_type": "execute_result",
          "data": {
            "text/plain": [
              "'2.18.0'"
            ],
            "application/vnd.google.colaboratory.intrinsic+json": {
              "type": "string"
            }
          },
          "metadata": {},
          "execution_count": 4
        }
      ]
    },
    {
      "cell_type": "code",
      "source": [
        "numere = np.array([1,2,3,4,5,6,7,8,9,10])"
      ],
      "metadata": {
        "id": "5fESP9qgFFlu"
      },
      "execution_count": 5,
      "outputs": []
    },
    {
      "cell_type": "code",
      "source": [
        "tf.constant(numere)"
      ],
      "metadata": {
        "colab": {
          "base_uri": "https://localhost:8080/"
        },
        "id": "JShcy7OPFRv6",
        "outputId": "e6557ed4-17d4-4308-bc8e-1db0fc71be91"
      },
      "execution_count": 6,
      "outputs": [
        {
          "output_type": "execute_result",
          "data": {
            "text/plain": [
              "<tf.Tensor: shape=(10,), dtype=int64, numpy=array([ 1,  2,  3,  4,  5,  6,  7,  8,  9, 10])>"
            ]
          },
          "metadata": {},
          "execution_count": 6
        }
      ]
    },
    {
      "cell_type": "code",
      "source": [
        "numere = tf.constant([1,2,3,4,5,6,7,8,9,10], dtype=tf.float64)\n",
        "numere"
      ],
      "metadata": {
        "colab": {
          "base_uri": "https://localhost:8080/"
        },
        "id": "i6-wd5h8FUaq",
        "outputId": "e975e1bc-72b0-4498-a607-303ba64ae6da"
      },
      "execution_count": 7,
      "outputs": [
        {
          "output_type": "execute_result",
          "data": {
            "text/plain": [
              "<tf.Tensor: shape=(10,), dtype=float64, numpy=array([ 1.,  2.,  3.,  4.,  5.,  6.,  7.,  8.,  9., 10.])>"
            ]
          },
          "metadata": {},
          "execution_count": 7
        }
      ]
    },
    {
      "cell_type": "code",
      "source": [
        "zero_tensor = tf.zeros(shape=(3,3))\n",
        "zero_tensor"
      ],
      "metadata": {
        "colab": {
          "base_uri": "https://localhost:8080/"
        },
        "id": "mEpv_VE3Fjms",
        "outputId": "4088bc6f-9eab-4f58-fdac-e88c303a1203"
      },
      "execution_count": 8,
      "outputs": [
        {
          "output_type": "execute_result",
          "data": {
            "text/plain": [
              "<tf.Tensor: shape=(3, 3), dtype=float32, numpy=\n",
              "array([[0., 0., 0.],\n",
              "       [0., 0., 0.],\n",
              "       [0., 0., 0.]], dtype=float32)>"
            ]
          },
          "metadata": {},
          "execution_count": 8
        }
      ]
    },
    {
      "cell_type": "code",
      "source": [
        "zero_tensor = tf.ones(shape=(3,3))\n",
        "zero_tensor"
      ],
      "metadata": {
        "colab": {
          "base_uri": "https://localhost:8080/"
        },
        "id": "KHp8ze7RGHT0",
        "outputId": "b55a0753-5834-4d71-cab9-3e91b2cc5bc7"
      },
      "execution_count": 9,
      "outputs": [
        {
          "output_type": "execute_result",
          "data": {
            "text/plain": [
              "<tf.Tensor: shape=(3, 3), dtype=float32, numpy=\n",
              "array([[1., 1., 1.],\n",
              "       [1., 1., 1.],\n",
              "       [1., 1., 1.]], dtype=float32)>"
            ]
          },
          "metadata": {},
          "execution_count": 9
        }
      ]
    },
    {
      "cell_type": "code",
      "source": [
        "zero_tensor = tf.fill(dims=(2,3), value=4.4)\n",
        "zero_tensor"
      ],
      "metadata": {
        "colab": {
          "base_uri": "https://localhost:8080/"
        },
        "id": "YZJ0KQcjGL1D",
        "outputId": "6edf5aa0-0bac-43cc-9e00-727326a9b210"
      },
      "execution_count": 10,
      "outputs": [
        {
          "output_type": "execute_result",
          "data": {
            "text/plain": [
              "<tf.Tensor: shape=(2, 3), dtype=float32, numpy=\n",
              "array([[4.4, 4.4, 4.4],\n",
              "       [4.4, 4.4, 4.4]], dtype=float32)>"
            ]
          },
          "metadata": {},
          "execution_count": 10
        }
      ]
    },
    {
      "cell_type": "code",
      "source": [
        "tf.random.normal(shape=(3,3), mean=0, stddev=1.0)"
      ],
      "metadata": {
        "colab": {
          "base_uri": "https://localhost:8080/"
        },
        "id": "jZmisYo6GPRy",
        "outputId": "dc9ed208-8249-4ff9-a78e-a1991b35eedd"
      },
      "execution_count": 11,
      "outputs": [
        {
          "output_type": "execute_result",
          "data": {
            "text/plain": [
              "<tf.Tensor: shape=(3, 3), dtype=float32, numpy=\n",
              "array([[ 0.83485895,  1.5987476 , -2.2723472 ],\n",
              "       [ 2.3410795 , -0.8213093 ,  2.8982844 ],\n",
              "       [ 0.11292224,  0.27392784,  1.8182012 ]], dtype=float32)>"
            ]
          },
          "metadata": {},
          "execution_count": 11
        }
      ]
    },
    {
      "cell_type": "code",
      "source": [
        "tf.random.uniform(shape=(5, 2), minval=1, maxval=10)"
      ],
      "metadata": {
        "colab": {
          "base_uri": "https://localhost:8080/"
        },
        "id": "dtnA0wWoGYr9",
        "outputId": "ccbef4ed-898b-4a83-90b6-4909d0d0c594"
      },
      "execution_count": 12,
      "outputs": [
        {
          "output_type": "execute_result",
          "data": {
            "text/plain": [
              "<tf.Tensor: shape=(5, 2), dtype=float32, numpy=\n",
              "array([[3.445091 , 1.6662178],\n",
              "       [2.3523827, 3.9608722],\n",
              "       [7.9265504, 2.9383755],\n",
              "       [3.506311 , 4.3183603],\n",
              "       [7.412533 , 1.7904652]], dtype=float32)>"
            ]
          },
          "metadata": {},
          "execution_count": 12
        }
      ]
    },
    {
      "cell_type": "code",
      "source": [
        "zero_tensor = tf.fill(dims=(2,3), value=2.)\n",
        "\n",
        "\n",
        "one_tensor = tf.fill(dims=(3,2), value=1.5)\n",
        "one_tensor, zero_tensor"
      ],
      "metadata": {
        "colab": {
          "base_uri": "https://localhost:8080/"
        },
        "id": "yBGU3LuSGkaF",
        "outputId": "30700b49-e1a3-4b5f-8241-18e77d6dfd1b"
      },
      "execution_count": 13,
      "outputs": [
        {
          "output_type": "execute_result",
          "data": {
            "text/plain": [
              "(<tf.Tensor: shape=(3, 2), dtype=float32, numpy=\n",
              " array([[1.5, 1.5],\n",
              "        [1.5, 1.5],\n",
              "        [1.5, 1.5]], dtype=float32)>,\n",
              " <tf.Tensor: shape=(2, 3), dtype=float32, numpy=\n",
              " array([[2., 2., 2.],\n",
              "        [2., 2., 2.]], dtype=float32)>)"
            ]
          },
          "metadata": {},
          "execution_count": 13
        }
      ]
    },
    {
      "cell_type": "code",
      "source": [
        "numere = tf.constant([1,2,3,4,5,6,7,8,9,10], dtype=tf.float64)\n",
        "numere"
      ],
      "metadata": {
        "colab": {
          "base_uri": "https://localhost:8080/"
        },
        "id": "UN3nCcIVGtUM",
        "outputId": "674bb3c0-5820-406b-cf13-d9985b0b8a7c"
      },
      "execution_count": 14,
      "outputs": [
        {
          "output_type": "execute_result",
          "data": {
            "text/plain": [
              "<tf.Tensor: shape=(10,), dtype=float64, numpy=array([ 1.,  2.,  3.,  4.,  5.,  6.,  7.,  8.,  9., 10.])>"
            ]
          },
          "metadata": {},
          "execution_count": 14
        }
      ]
    },
    {
      "cell_type": "code",
      "source": [
        "variabila_tf = tf.Variable(numere)\n",
        "variabila_tf"
      ],
      "metadata": {
        "colab": {
          "base_uri": "https://localhost:8080/"
        },
        "id": "t7ipVgR1Gujb",
        "outputId": "ce1e6725-c6b1-4efc-d996-3856d84764f0"
      },
      "execution_count": 15,
      "outputs": [
        {
          "output_type": "execute_result",
          "data": {
            "text/plain": [
              "<tf.Variable 'Variable:0' shape=(10,) dtype=float64, numpy=array([ 1.,  2.,  3.,  4.,  5.,  6.,  7.,  8.,  9., 10.])>"
            ]
          },
          "metadata": {},
          "execution_count": 15
        }
      ]
    },
    {
      "cell_type": "code",
      "source": [
        "variabila_tf.assign_add([1,1,1,1,1,1,1,1,1,1])"
      ],
      "metadata": {
        "colab": {
          "base_uri": "https://localhost:8080/"
        },
        "id": "JjOIli6oHmdv",
        "outputId": "0b4873eb-cd81-4025-b0dd-ca1485400058"
      },
      "execution_count": 16,
      "outputs": [
        {
          "output_type": "execute_result",
          "data": {
            "text/plain": [
              "<tf.Variable 'UnreadVariable' shape=(10,) dtype=float64, numpy=array([ 2.,  3.,  4.,  5.,  6.,  7.,  8.,  9., 10., 11.])>"
            ]
          },
          "metadata": {},
          "execution_count": 16
        }
      ]
    },
    {
      "cell_type": "code",
      "source": [
        "variabila_tf"
      ],
      "metadata": {
        "colab": {
          "base_uri": "https://localhost:8080/"
        },
        "id": "O297tyz1Hqx4",
        "outputId": "09a620ce-e374-4073-a780-bfedd29a9ed7"
      },
      "execution_count": 17,
      "outputs": [
        {
          "output_type": "execute_result",
          "data": {
            "text/plain": [
              "<tf.Variable 'Variable:0' shape=(10,) dtype=float64, numpy=array([ 2.,  3.,  4.,  5.,  6.,  7.,  8.,  9., 10., 11.])>"
            ]
          },
          "metadata": {},
          "execution_count": 17
        }
      ]
    },
    {
      "cell_type": "code",
      "source": [
        "variabila_tf.assign_add([1,1,1,1,1,1,1,1,1,1])"
      ],
      "metadata": {
        "colab": {
          "base_uri": "https://localhost:8080/"
        },
        "id": "RwYKdo2yHwTm",
        "outputId": "350d9f8a-f37f-4e39-e8a2-d5abc3a7bfb1"
      },
      "execution_count": 18,
      "outputs": [
        {
          "output_type": "execute_result",
          "data": {
            "text/plain": [
              "<tf.Variable 'UnreadVariable' shape=(10,) dtype=float64, numpy=array([ 3.,  4.,  5.,  6.,  7.,  8.,  9., 10., 11., 12.])>"
            ]
          },
          "metadata": {},
          "execution_count": 18
        }
      ]
    },
    {
      "cell_type": "code",
      "source": [
        "variabila_tf.assign([20,20,1,1,1,33,1,44,1,1])"
      ],
      "metadata": {
        "colab": {
          "base_uri": "https://localhost:8080/"
        },
        "id": "NtiEY9hMIYjF",
        "outputId": "e9282790-370c-4c53-e7f4-b5dff1f59b4a"
      },
      "execution_count": 19,
      "outputs": [
        {
          "output_type": "execute_result",
          "data": {
            "text/plain": [
              "<tf.Variable 'UnreadVariable' shape=(10,) dtype=float64, numpy=array([20., 20.,  1.,  1.,  1., 33.,  1., 44.,  1.,  1.])>"
            ]
          },
          "metadata": {},
          "execution_count": 19
        }
      ]
    },
    {
      "cell_type": "code",
      "source": [
        "tf.config.experimental.list_physical_devices()"
      ],
      "metadata": {
        "colab": {
          "base_uri": "https://localhost:8080/"
        },
        "id": "SY6mAnhiIdL2",
        "outputId": "ef20d995-809f-40d8-e400-109e9c0d1035"
      },
      "execution_count": 20,
      "outputs": [
        {
          "output_type": "execute_result",
          "data": {
            "text/plain": [
              "[PhysicalDevice(name='/physical_device:CPU:0', device_type='CPU'),\n",
              " PhysicalDevice(name='/physical_device:GPU:0', device_type='GPU')]"
            ]
          },
          "metadata": {},
          "execution_count": 20
        }
      ]
    },
    {
      "cell_type": "code",
      "source": [
        "with tf.device(\"CPU:0\"):\n",
        "  print(\"Acest model ruleaza pe CPU\")"
      ],
      "metadata": {
        "colab": {
          "base_uri": "https://localhost:8080/"
        },
        "id": "wHKnUp-yJAHE",
        "outputId": "0eab7719-06c9-4add-963d-25352449954c"
      },
      "execution_count": 21,
      "outputs": [
        {
          "output_type": "stream",
          "name": "stdout",
          "text": [
            "Acest model ruleaza pe CPU\n"
          ]
        }
      ]
    },
    {
      "cell_type": "code",
      "source": [
        "with tf.device(\"GPU:0\"):\n",
        "  print(\"Acest model ruleaza pe GPU\")"
      ],
      "metadata": {
        "colab": {
          "base_uri": "https://localhost:8080/"
        },
        "id": "ZNGTVZAGKR_5",
        "outputId": "f888743d-4375-4229-c2d7-2f2293d0d355"
      },
      "execution_count": 22,
      "outputs": [
        {
          "output_type": "stream",
          "name": "stdout",
          "text": [
            "Acest model ruleaza pe GPU\n"
          ]
        }
      ]
    },
    {
      "cell_type": "markdown",
      "source": [
        "# In colab Executie -> schimbati tipul executiei"
      ],
      "metadata": {
        "id": "P4w-Ch4jKc3a"
      }
    },
    {
      "cell_type": "code",
      "source": [
        "variabila_tf"
      ],
      "metadata": {
        "colab": {
          "base_uri": "https://localhost:8080/"
        },
        "id": "9UbzHRhPKTtE",
        "outputId": "456ce37c-c490-4375-f783-910010bf90b9"
      },
      "execution_count": 23,
      "outputs": [
        {
          "output_type": "execute_result",
          "data": {
            "text/plain": [
              "<tf.Variable 'Variable:0' shape=(10,) dtype=float64, numpy=array([20., 20.,  1.,  1.,  1., 33.,  1., 44.,  1.,  1.])>"
            ]
          },
          "metadata": {},
          "execution_count": 23
        }
      ]
    }
  ]
}