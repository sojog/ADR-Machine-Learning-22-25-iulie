{
  "nbformat": 4,
  "nbformat_minor": 0,
  "metadata": {
    "colab": {
      "provenance": []
    },
    "kernelspec": {
      "name": "python3",
      "display_name": "Python 3"
    },
    "language_info": {
      "name": "python"
    }
  },
  "cells": [
    {
      "cell_type": "code",
      "execution_count": 24,
      "metadata": {
        "id": "bpI1MI5FuqPU"
      },
      "outputs": [],
      "source": [
        "import pandas as pd\n",
        "import numpy as np\n",
        "import matplotlib.pyplot as plt\n",
        "import seaborn as sns\n",
        "import warnings\n",
        "warnings.filterwarnings('ignore')\n",
        "import tensorflow as tf\n",
        "from keras.datasets import mnist"
      ]
    },
    {
      "cell_type": "code",
      "source": [
        "((x_train, y_train), (x_test, y_test))= mnist.load_data()"
      ],
      "metadata": {
        "id": "5F-R3jpYu7EX"
      },
      "execution_count": 25,
      "outputs": []
    },
    {
      "cell_type": "code",
      "source": [
        "only_zeros = x_train[y_train == 0]"
      ],
      "metadata": {
        "id": "_BF8NW2yu84i"
      },
      "execution_count": 26,
      "outputs": []
    },
    {
      "cell_type": "code",
      "source": [
        "x_train.shape, only_zeros.shape"
      ],
      "metadata": {
        "colab": {
          "base_uri": "https://localhost:8080/"
        },
        "id": "O0s-P7lBvAFd",
        "outputId": "f3a1e31f-93c9-4cb3-cc69-be613605bb8b"
      },
      "execution_count": 27,
      "outputs": [
        {
          "output_type": "execute_result",
          "data": {
            "text/plain": [
              "((60000, 28, 28), (5923, 28, 28))"
            ]
          },
          "metadata": {},
          "execution_count": 27
        }
      ]
    },
    {
      "cell_type": "code",
      "source": [
        "x_train = x_train / 255"
      ],
      "metadata": {
        "id": "f1jtGUXYvDX8"
      },
      "execution_count": 28,
      "outputs": []
    },
    {
      "cell_type": "code",
      "source": [
        "x_train = x_train.reshape(-1, 28, 28, 1) * 2. - 1."
      ],
      "metadata": {
        "id": "6yeKgEbwvGC5"
      },
      "execution_count": 29,
      "outputs": []
    },
    {
      "cell_type": "code",
      "source": [
        "x_train.min(), x_train.max()"
      ],
      "metadata": {
        "colab": {
          "base_uri": "https://localhost:8080/"
        },
        "id": "3ZUCH_zyvKsq",
        "outputId": "9076fae2-f3a2-432a-d796-706c43a0ee2e"
      },
      "execution_count": 30,
      "outputs": [
        {
          "output_type": "execute_result",
          "data": {
            "text/plain": [
              "(np.float64(-1.0), np.float64(1.0))"
            ]
          },
          "metadata": {},
          "execution_count": 30
        }
      ]
    },
    {
      "cell_type": "code",
      "source": [
        "only_zeros.shape"
      ],
      "metadata": {
        "colab": {
          "base_uri": "https://localhost:8080/"
        },
        "id": "CXOFq2H8vLZu",
        "outputId": "b8a15bea-7497-4080-f5a0-375252d737e6"
      },
      "execution_count": 31,
      "outputs": [
        {
          "output_type": "execute_result",
          "data": {
            "text/plain": [
              "(5923, 28, 28)"
            ]
          },
          "metadata": {},
          "execution_count": 31
        }
      ]
    },
    {
      "cell_type": "code",
      "source": [
        "generator = tf.keras.models.Sequential([\n",
        "    tf.keras.layers.Dense(7 * 7 * 128, input_shape=[100]),\n",
        "    tf.keras.layers.Reshape([ 7, 7, 128]),\n",
        "    tf.keras.layers.BatchNormalization(),\n",
        "    tf.keras.layers.Conv2DTranspose(64, kernel_size=(5,5),\n",
        "                                    strides=(2,2), activation=\"relu\", padding=\"same\"),\n",
        "    tf.keras.layers.BatchNormalization(),\n",
        "    tf.keras.layers.Conv2DTranspose(1, kernel_size=(5,5),\n",
        "                                    strides=(2,2), activation=\"tanh\", padding=\"same\"),\n",
        "\n",
        "])"
      ],
      "metadata": {
        "id": "W26-fQJRvVwe"
      },
      "execution_count": 39,
      "outputs": []
    },
    {
      "cell_type": "code",
      "source": [
        "discriminator = tf.keras.models.Sequential([\n",
        "\n",
        "             tf.keras.layers.Conv2D(64, kernel_size=(5,5),\n",
        "                                    strides=(2,2), activation=\"relu\", input_shape=[28, 28, 1]),\n",
        "\n",
        "             tf.keras.layers.Dropout(0.4),\n",
        "            tf.keras.layers.Conv2DTranspose(64, kernel_size=(5,5),\n",
        "                                    strides=(2,2), activation=\"relu\"),\n",
        "             tf.keras.layers.Dropout(0.4),\n",
        "             tf.keras.layers.Flatten(),\n",
        "             tf.keras.layers.Dense(1, activation=\"sigmoid\")\n",
        "\n",
        "])"
      ],
      "metadata": {
        "id": "ORLJbkF2wSz_"
      },
      "execution_count": 33,
      "outputs": []
    },
    {
      "cell_type": "code",
      "source": [
        "GAN = tf.keras.models.Sequential([generator, discriminator])"
      ],
      "metadata": {
        "id": "6uLfOeHvwuIw"
      },
      "execution_count": 40,
      "outputs": []
    },
    {
      "cell_type": "code",
      "source": [
        "discriminator.trainable = False"
      ],
      "metadata": {
        "id": "Un_XrgG7wy7h"
      },
      "execution_count": 41,
      "outputs": []
    },
    {
      "cell_type": "code",
      "source": [
        "GAN.compile(loss='binary_crossentropy', optimizer='adam')"
      ],
      "metadata": {
        "id": "3Pt4O7tpw2zP"
      },
      "execution_count": 42,
      "outputs": []
    },
    {
      "cell_type": "code",
      "source": [
        "discriminator.compile(loss='binary_crossentropy', optimizer='adam')"
      ],
      "metadata": {
        "id": "YaK5b7Ljw294"
      },
      "execution_count": 43,
      "outputs": []
    },
    {
      "cell_type": "code",
      "source": [
        "batch_size = 32"
      ],
      "metadata": {
        "id": "DLn-vE93w_dn"
      },
      "execution_count": 44,
      "outputs": []
    },
    {
      "cell_type": "code",
      "source": [
        "dataset = tf.data.Dataset.from_tensor_slices(only_zeros).shuffle(buffer_size=1000)"
      ],
      "metadata": {
        "id": "Jfz5U5nwxBjK"
      },
      "execution_count": 45,
      "outputs": []
    },
    {
      "cell_type": "code",
      "source": [
        "new_dataset = dataset.batch(batch_size, drop_remainder=True).prefetch(1)\n"
      ],
      "metadata": {
        "id": "p0MfakhdxBtO"
      },
      "execution_count": 46,
      "outputs": []
    },
    {
      "cell_type": "code",
      "source": [
        "new_dataset"
      ],
      "metadata": {
        "colab": {
          "base_uri": "https://localhost:8080/"
        },
        "id": "DdgONo7CxUoG",
        "outputId": "3aa22756-1927-4ca2-b270-22b51d40f2bc"
      },
      "execution_count": 47,
      "outputs": [
        {
          "output_type": "execute_result",
          "data": {
            "text/plain": [
              "<_PrefetchDataset element_spec=TensorSpec(shape=(32, 28, 28), dtype=tf.uint8, name=None)>"
            ]
          },
          "metadata": {},
          "execution_count": 47
        }
      ]
    },
    {
      "cell_type": "code",
      "source": [
        "EPOCHS = 20\n",
        "\n",
        "for epoch in range(EPOCHS):\n",
        "    print(f\"Suntem in epoca {epoch + 1}\")\n",
        "\n",
        "    for x_batch in new_dataset:\n",
        "        noise = tf.random.normal(shape=(batch_size, 100))\n",
        "        gen_images = generator(noise) # fake images\n",
        "\n",
        "        # Expand dimensions of x_batch to match gen_images\n",
        "        x_batch_expanded = tf.expand_dims(tf.dtypes.cast(x_batch, tf.float32), axis=-1)\n",
        "\n",
        "        x_fake_and_real = tf.concat([gen_images, x_batch_expanded], axis=0)\n",
        "        y1 = tf.constant([[0.]] * batch_size + [[1.]] * batch_size)\n",
        "\n",
        "\n",
        "        discriminator.trainable = True\n",
        "        discriminator.train_on_batch(x_fake_and_real, y1)\n",
        "\n",
        "        discriminator.trainable = False\n",
        "\n",
        "        noise = tf.random.normal(shape=(batch_size, 100))\n",
        "        y2 = tf.constant([[1.]] * batch_size)\n",
        "\n",
        "\n",
        "\n",
        "        GAN.train_on_batch(noise, y2)"
      ],
      "metadata": {
        "colab": {
          "base_uri": "https://localhost:8080/"
        },
        "id": "pepLhBscxDk1",
        "outputId": "938197b6-322f-4617-b43a-c93d71423688"
      },
      "execution_count": null,
      "outputs": [
        {
          "output_type": "stream",
          "name": "stdout",
          "text": [
            "Suntem in epoca 1\n",
            "Suntem in epoca 2\n",
            "Suntem in epoca 3\n",
            "Suntem in epoca 4\n",
            "Suntem in epoca 5\n",
            "Suntem in epoca 6\n",
            "Suntem in epoca 7\n",
            "Suntem in epoca 8\n"
          ]
        }
      ]
    },
    {
      "cell_type": "code",
      "source": [
        "noise = tf.random.normal(shape=(10, 100))\n",
        "plt.imshow(noise)"
      ],
      "metadata": {
        "id": "Q7nuW-GHyk3O"
      },
      "execution_count": null,
      "outputs": []
    },
    {
      "cell_type": "code",
      "source": [
        "images =  generator(noise)\n",
        "for im in images:\n",
        "    plt.imshow(im)\n",
        "    plt.show()"
      ],
      "metadata": {
        "id": "960-EHpmyoFS"
      },
      "execution_count": null,
      "outputs": []
    }
  ]
}